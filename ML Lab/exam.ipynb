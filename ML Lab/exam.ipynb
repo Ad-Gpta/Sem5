{
 "cells": [
  {
   "cell_type": "code",
   "execution_count": 1,
   "metadata": {},
   "outputs": [],
   "source": [
    "import pandas as pd\n",
    "import numpy as np"
   ]
  },
  {
   "cell_type": "code",
   "execution_count": 3,
   "metadata": {},
   "outputs": [
    {
     "data": {
      "text/html": [
       "<div>\n",
       "<style scoped>\n",
       "    .dataframe tbody tr th:only-of-type {\n",
       "        vertical-align: middle;\n",
       "    }\n",
       "\n",
       "    .dataframe tbody tr th {\n",
       "        vertical-align: top;\n",
       "    }\n",
       "\n",
       "    .dataframe thead th {\n",
       "        text-align: right;\n",
       "    }\n",
       "</style>\n",
       "<table border=\"1\" class=\"dataframe\">\n",
       "  <thead>\n",
       "    <tr style=\"text-align: right;\">\n",
       "      <th></th>\n",
       "      <th>Idx</th>\n",
       "      <th>HomeOwner</th>\n",
       "      <th>Status</th>\n",
       "      <th>Income</th>\n",
       "      <th>Defaulted</th>\n",
       "    </tr>\n",
       "  </thead>\n",
       "  <tbody>\n",
       "    <tr>\n",
       "      <th>0</th>\n",
       "      <td>1</td>\n",
       "      <td>Yes</td>\n",
       "      <td>Not Business</td>\n",
       "      <td>High</td>\n",
       "      <td>No</td>\n",
       "    </tr>\n",
       "    <tr>\n",
       "      <th>1</th>\n",
       "      <td>2</td>\n",
       "      <td>No</td>\n",
       "      <td>Business</td>\n",
       "      <td>Not High</td>\n",
       "      <td>No</td>\n",
       "    </tr>\n",
       "    <tr>\n",
       "      <th>2</th>\n",
       "      <td>3</td>\n",
       "      <td>No</td>\n",
       "      <td>Not Business</td>\n",
       "      <td>Not High</td>\n",
       "      <td>No</td>\n",
       "    </tr>\n",
       "    <tr>\n",
       "      <th>3</th>\n",
       "      <td>4</td>\n",
       "      <td>Yes</td>\n",
       "      <td>Business</td>\n",
       "      <td>High</td>\n",
       "      <td>No</td>\n",
       "    </tr>\n",
       "    <tr>\n",
       "      <th>4</th>\n",
       "      <td>5</td>\n",
       "      <td>No</td>\n",
       "      <td>Not Business</td>\n",
       "      <td>Not High</td>\n",
       "      <td>Yes</td>\n",
       "    </tr>\n",
       "    <tr>\n",
       "      <th>5</th>\n",
       "      <td>6</td>\n",
       "      <td>No</td>\n",
       "      <td>Business</td>\n",
       "      <td>Not High</td>\n",
       "      <td>No</td>\n",
       "    </tr>\n",
       "    <tr>\n",
       "      <th>6</th>\n",
       "      <td>7</td>\n",
       "      <td>Yes</td>\n",
       "      <td>Not Business</td>\n",
       "      <td>High</td>\n",
       "      <td>No</td>\n",
       "    </tr>\n",
       "    <tr>\n",
       "      <th>7</th>\n",
       "      <td>8</td>\n",
       "      <td>No</td>\n",
       "      <td>Not Business</td>\n",
       "      <td>Not High</td>\n",
       "      <td>Yes</td>\n",
       "    </tr>\n",
       "    <tr>\n",
       "      <th>8</th>\n",
       "      <td>9</td>\n",
       "      <td>No</td>\n",
       "      <td>Business</td>\n",
       "      <td>Not High</td>\n",
       "      <td>No</td>\n",
       "    </tr>\n",
       "    <tr>\n",
       "      <th>9</th>\n",
       "      <td>10</td>\n",
       "      <td>No</td>\n",
       "      <td>Not Business</td>\n",
       "      <td>Not High</td>\n",
       "      <td>Yes</td>\n",
       "    </tr>\n",
       "  </tbody>\n",
       "</table>\n",
       "</div>"
      ],
      "text/plain": [
       "   Idx HomeOwner        Status    Income Defaulted\n",
       "0    1       Yes  Not Business      High        No\n",
       "1    2        No      Business  Not High        No\n",
       "2    3        No  Not Business  Not High        No\n",
       "3    4       Yes      Business      High        No\n",
       "4    5        No  Not Business  Not High       Yes\n",
       "5    6        No      Business  Not High        No\n",
       "6    7       Yes  Not Business      High        No\n",
       "7    8        No  Not Business  Not High       Yes\n",
       "8    9        No      Business  Not High        No\n",
       "9   10        No  Not Business  Not High       Yes"
      ]
     },
     "execution_count": 3,
     "metadata": {},
     "output_type": "execute_result"
    }
   ],
   "source": [
    "df = pd.read_csv('/home/exam1/Desktop/data.csv')\n",
    "df"
   ]
  },
  {
   "cell_type": "code",
   "execution_count": 4,
   "metadata": {},
   "outputs": [
    {
     "data": {
      "text/plain": [
       "10"
      ]
     },
     "execution_count": 4,
     "metadata": {},
     "output_type": "execute_result"
    }
   ],
   "source": [
    "n = df.shape[0]\n",
    "n"
   ]
  },
  {
   "cell_type": "code",
   "execution_count": 5,
   "metadata": {},
   "outputs": [],
   "source": [
    "cols = df.columns\n",
    "m = len(cols)"
   ]
  },
  {
   "cell_type": "code",
   "execution_count": 6,
   "metadata": {},
   "outputs": [],
   "source": [
    "d = df.to_numpy()"
   ]
  },
  {
   "cell_type": "code",
   "execution_count": 7,
   "metadata": {},
   "outputs": [],
   "source": [
    "given = ['No', 'Business', 'High']"
   ]
  },
  {
   "cell_type": "code",
   "execution_count": 12,
   "metadata": {},
   "outputs": [
    {
     "name": "stdout",
     "output_type": "stream",
     "text": [
      "7 3 4 3 0 0\n",
      "0.7 0.3 0.4 0.3 0.0 0.0\n"
     ]
    }
   ],
   "source": [
    "pO, pH, pB = 0,0,0\n",
    "pO_yes, pH_yes, pB_yes = 0,0,0\n",
    "p_yes = 0\n",
    "\n",
    "#counting:\n",
    "for i in range(0,n):\n",
    "    if d[i][-1] == 'Yes':\n",
    "            p_yes +=1\n",
    "    if d[i][1] == given[0]:\n",
    "        pO +=1\n",
    "        if d[i][-1] == 'Yes':\n",
    "            pO_yes +=1\n",
    "    if d[i][2] == given[1]:\n",
    "        pB +=1\n",
    "        if d[i][-1] == 'Yes':\n",
    "            pB_yes +=1\n",
    "    if d[i][3] == given[2]:\n",
    "        pH +=1\n",
    "        if d[i][-1] == 'Yes':\n",
    "            pH_yes +=1\n",
    "\n",
    "print(pO, pH, pB, pO_yes, pH_yes, pB_yes)\n",
    "#finding probabilities:\n",
    "pO /=n\n",
    "pH /=n\n",
    "pB /=n\n",
    "pO_yes /=n\n",
    "pH_yes /=n\n",
    "pB_yes /=n\n",
    "p_yes /=n\n",
    "\n",
    "print(pO, pH, pB, pO_yes, pH_yes, pB_yes)"
   ]
  },
  {
   "cell_type": "code",
   "execution_count": 13,
   "metadata": {},
   "outputs": [
    {
     "name": "stdout",
     "output_type": "stream",
     "text": [
      "0.0\n",
      "Predicted class for tuple:  ['No', 'Business', 'High']  is:  No\n"
     ]
    }
   ],
   "source": [
    "#implementing naive bayes\n",
    "\n",
    "pYes_OBH = (pO_yes*pH_yes*pB_yes*p_yes)/(pO*pH*pB)\n",
    "print(pYes_OBH)\n",
    "\n",
    "if(pYes_OBH>0.5):\n",
    "    ans = 'Yes'\n",
    "else:\n",
    "    ans = 'No'\n",
    "    \n",
    "print(\"Predicted class for tuple: \", given, \" is: \", ans)"
   ]
  },
  {
   "cell_type": "code",
   "execution_count": 28,
   "metadata": {},
   "outputs": [
    {
     "data": {
      "text/plain": [
       "{'Idx': 11,\n",
       " 'HomeOwner': 'No',\n",
       " 'Status': 'Business',\n",
       " 'Income': 'High',\n",
       " 'Defaulted': 'No'}"
      ]
     },
     "execution_count": 28,
     "metadata": {},
     "output_type": "execute_result"
    }
   ],
   "source": [
    "new_tuple = {cols[0]:n+1, cols[1]: given[0], cols[2]:given[1], cols[3]:given[2], cols[4]:ans}\n",
    "new_tuple"
   ]
  },
  {
   "cell_type": "code",
   "execution_count": 31,
   "metadata": {},
   "outputs": [
    {
     "name": "stderr",
     "output_type": "stream",
     "text": [
      "/tmp/ipykernel_4169/1380808132.py:1: FutureWarning: The frame.append method is deprecated and will be removed from pandas in a future version. Use pandas.concat instead.\n",
      "  df_new = df.append(new_tuple,ignore_index=True)\n"
     ]
    }
   ],
   "source": [
    "df_new = df.append(new_tuple,ignore_index=True)"
   ]
  },
  {
   "cell_type": "code",
   "execution_count": 32,
   "metadata": {},
   "outputs": [
    {
     "data": {
      "text/html": [
       "<div>\n",
       "<style scoped>\n",
       "    .dataframe tbody tr th:only-of-type {\n",
       "        vertical-align: middle;\n",
       "    }\n",
       "\n",
       "    .dataframe tbody tr th {\n",
       "        vertical-align: top;\n",
       "    }\n",
       "\n",
       "    .dataframe thead th {\n",
       "        text-align: right;\n",
       "    }\n",
       "</style>\n",
       "<table border=\"1\" class=\"dataframe\">\n",
       "  <thead>\n",
       "    <tr style=\"text-align: right;\">\n",
       "      <th></th>\n",
       "      <th>Idx</th>\n",
       "      <th>HomeOwner</th>\n",
       "      <th>Status</th>\n",
       "      <th>Income</th>\n",
       "      <th>Defaulted</th>\n",
       "    </tr>\n",
       "  </thead>\n",
       "  <tbody>\n",
       "    <tr>\n",
       "      <th>0</th>\n",
       "      <td>1</td>\n",
       "      <td>Yes</td>\n",
       "      <td>Not Business</td>\n",
       "      <td>High</td>\n",
       "      <td>No</td>\n",
       "    </tr>\n",
       "    <tr>\n",
       "      <th>1</th>\n",
       "      <td>2</td>\n",
       "      <td>No</td>\n",
       "      <td>Business</td>\n",
       "      <td>Not High</td>\n",
       "      <td>No</td>\n",
       "    </tr>\n",
       "    <tr>\n",
       "      <th>2</th>\n",
       "      <td>3</td>\n",
       "      <td>No</td>\n",
       "      <td>Not Business</td>\n",
       "      <td>Not High</td>\n",
       "      <td>No</td>\n",
       "    </tr>\n",
       "    <tr>\n",
       "      <th>3</th>\n",
       "      <td>4</td>\n",
       "      <td>Yes</td>\n",
       "      <td>Business</td>\n",
       "      <td>High</td>\n",
       "      <td>No</td>\n",
       "    </tr>\n",
       "    <tr>\n",
       "      <th>4</th>\n",
       "      <td>5</td>\n",
       "      <td>No</td>\n",
       "      <td>Not Business</td>\n",
       "      <td>Not High</td>\n",
       "      <td>Yes</td>\n",
       "    </tr>\n",
       "    <tr>\n",
       "      <th>5</th>\n",
       "      <td>6</td>\n",
       "      <td>No</td>\n",
       "      <td>Business</td>\n",
       "      <td>Not High</td>\n",
       "      <td>No</td>\n",
       "    </tr>\n",
       "    <tr>\n",
       "      <th>6</th>\n",
       "      <td>7</td>\n",
       "      <td>Yes</td>\n",
       "      <td>Not Business</td>\n",
       "      <td>High</td>\n",
       "      <td>No</td>\n",
       "    </tr>\n",
       "    <tr>\n",
       "      <th>7</th>\n",
       "      <td>8</td>\n",
       "      <td>No</td>\n",
       "      <td>Not Business</td>\n",
       "      <td>Not High</td>\n",
       "      <td>Yes</td>\n",
       "    </tr>\n",
       "    <tr>\n",
       "      <th>8</th>\n",
       "      <td>9</td>\n",
       "      <td>No</td>\n",
       "      <td>Business</td>\n",
       "      <td>Not High</td>\n",
       "      <td>No</td>\n",
       "    </tr>\n",
       "    <tr>\n",
       "      <th>9</th>\n",
       "      <td>10</td>\n",
       "      <td>No</td>\n",
       "      <td>Not Business</td>\n",
       "      <td>Not High</td>\n",
       "      <td>Yes</td>\n",
       "    </tr>\n",
       "    <tr>\n",
       "      <th>10</th>\n",
       "      <td>11</td>\n",
       "      <td>No</td>\n",
       "      <td>Business</td>\n",
       "      <td>High</td>\n",
       "      <td>No</td>\n",
       "    </tr>\n",
       "  </tbody>\n",
       "</table>\n",
       "</div>"
      ],
      "text/plain": [
       "    Idx HomeOwner        Status    Income Defaulted\n",
       "0     1       Yes  Not Business      High        No\n",
       "1     2        No      Business  Not High        No\n",
       "2     3        No  Not Business  Not High        No\n",
       "3     4       Yes      Business      High        No\n",
       "4     5        No  Not Business  Not High       Yes\n",
       "5     6        No      Business  Not High        No\n",
       "6     7       Yes  Not Business      High        No\n",
       "7     8        No  Not Business  Not High       Yes\n",
       "8     9        No      Business  Not High        No\n",
       "9    10        No  Not Business  Not High       Yes\n",
       "10   11        No      Business      High        No"
      ]
     },
     "execution_count": 32,
     "metadata": {},
     "output_type": "execute_result"
    }
   ],
   "source": [
    "df_new"
   ]
  },
  {
   "cell_type": "code",
   "execution_count": null,
   "metadata": {},
   "outputs": [],
   "source": []
  }
 ],
 "metadata": {
  "kernelspec": {
   "display_name": "Python 3",
   "language": "python",
   "name": "python3"
  },
  "language_info": {
   "codemirror_mode": {
    "name": "ipython",
    "version": 3
   },
   "file_extension": ".py",
   "mimetype": "text/x-python",
   "name": "python",
   "nbconvert_exporter": "python",
   "pygments_lexer": "ipython3",
   "version": "3.7.4"
  }
 },
 "nbformat": 4,
 "nbformat_minor": 5
}
