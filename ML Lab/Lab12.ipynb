{
 "cells": [
  {
   "cell_type": "markdown",
   "metadata": {},
   "source": [
    "# Week 12: DATA CLUSTERING"
   ]
  },
  {
   "cell_type": "code",
   "execution_count": 1,
   "metadata": {},
   "outputs": [],
   "source": [
    "import numpy as np\n",
    "import pandas as pd\n",
    "import matplotlib.pyplot as plt\n",
    "from math import sqrt"
   ]
  },
  {
   "cell_type": "markdown",
   "metadata": {},
   "source": [
    "## Q1\n",
    "\n",
    "Write a python code without using scikit-learn library, to create a DataFrame that contains the following three variables for 20 different basketball players:\n",
    "\n",
    "points, \n",
    "assists, \n",
    "rebounds, \n",
    "\n",
    "Apply the K.means algorithm to identify the clusters and to do the following:\n",
    "\n",
    "a. Plot that displays the number of clusters on the x-axis and the Sum Squared Error (SSE) on the y-axis\n",
    "\n",
    "b. Plot the clusters in different color."
   ]
  },
  {
   "cell_type": "code",
   "execution_count": 2,
   "metadata": {},
   "outputs": [
    {
     "data": {
      "text/html": [
       "<div>\n",
       "<style scoped>\n",
       "    .dataframe tbody tr th:only-of-type {\n",
       "        vertical-align: middle;\n",
       "    }\n",
       "\n",
       "    .dataframe tbody tr th {\n",
       "        vertical-align: top;\n",
       "    }\n",
       "\n",
       "    .dataframe thead th {\n",
       "        text-align: right;\n",
       "    }\n",
       "</style>\n",
       "<table border=\"1\" class=\"dataframe\">\n",
       "  <thead>\n",
       "    <tr style=\"text-align: right;\">\n",
       "      <th></th>\n",
       "      <th>points</th>\n",
       "      <th>assists</th>\n",
       "      <th>rebounds</th>\n",
       "    </tr>\n",
       "  </thead>\n",
       "  <tbody>\n",
       "    <tr>\n",
       "      <th>0</th>\n",
       "      <td>18</td>\n",
       "      <td>3</td>\n",
       "      <td>15</td>\n",
       "    </tr>\n",
       "    <tr>\n",
       "      <th>1</th>\n",
       "      <td>19</td>\n",
       "      <td>4</td>\n",
       "      <td>14</td>\n",
       "    </tr>\n",
       "    <tr>\n",
       "      <th>2</th>\n",
       "      <td>14</td>\n",
       "      <td>5</td>\n",
       "      <td>10</td>\n",
       "    </tr>\n",
       "    <tr>\n",
       "      <th>3</th>\n",
       "      <td>14</td>\n",
       "      <td>4</td>\n",
       "      <td>8</td>\n",
       "    </tr>\n",
       "    <tr>\n",
       "      <th>4</th>\n",
       "      <td>11</td>\n",
       "      <td>7</td>\n",
       "      <td>14</td>\n",
       "    </tr>\n",
       "    <tr>\n",
       "      <th>5</th>\n",
       "      <td>20</td>\n",
       "      <td>8</td>\n",
       "      <td>13</td>\n",
       "    </tr>\n",
       "    <tr>\n",
       "      <th>6</th>\n",
       "      <td>28</td>\n",
       "      <td>7</td>\n",
       "      <td>9</td>\n",
       "    </tr>\n",
       "    <tr>\n",
       "      <th>7</th>\n",
       "      <td>30</td>\n",
       "      <td>6</td>\n",
       "      <td>5</td>\n",
       "    </tr>\n",
       "    <tr>\n",
       "      <th>8</th>\n",
       "      <td>31</td>\n",
       "      <td>9</td>\n",
       "      <td>4</td>\n",
       "    </tr>\n",
       "    <tr>\n",
       "      <th>9</th>\n",
       "      <td>35</td>\n",
       "      <td>12</td>\n",
       "      <td>11</td>\n",
       "    </tr>\n",
       "    <tr>\n",
       "      <th>10</th>\n",
       "      <td>33</td>\n",
       "      <td>14</td>\n",
       "      <td>6</td>\n",
       "    </tr>\n",
       "    <tr>\n",
       "      <th>11</th>\n",
       "      <td>25</td>\n",
       "      <td>9</td>\n",
       "      <td>5</td>\n",
       "    </tr>\n",
       "    <tr>\n",
       "      <th>12</th>\n",
       "      <td>25</td>\n",
       "      <td>4</td>\n",
       "      <td>3</td>\n",
       "    </tr>\n",
       "    <tr>\n",
       "      <th>13</th>\n",
       "      <td>27</td>\n",
       "      <td>3</td>\n",
       "      <td>8</td>\n",
       "    </tr>\n",
       "    <tr>\n",
       "      <th>14</th>\n",
       "      <td>29</td>\n",
       "      <td>4</td>\n",
       "      <td>12</td>\n",
       "    </tr>\n",
       "    <tr>\n",
       "      <th>15</th>\n",
       "      <td>30</td>\n",
       "      <td>12</td>\n",
       "      <td>7</td>\n",
       "    </tr>\n",
       "    <tr>\n",
       "      <th>16</th>\n",
       "      <td>19</td>\n",
       "      <td>15</td>\n",
       "      <td>6</td>\n",
       "    </tr>\n",
       "    <tr>\n",
       "      <th>17</th>\n",
       "      <td>23</td>\n",
       "      <td>11</td>\n",
       "      <td>5</td>\n",
       "    </tr>\n",
       "  </tbody>\n",
       "</table>\n",
       "</div>"
      ],
      "text/plain": [
       "    points  assists  rebounds\n",
       "0       18        3        15\n",
       "1       19        4        14\n",
       "2       14        5        10\n",
       "3       14        4         8\n",
       "4       11        7        14\n",
       "5       20        8        13\n",
       "6       28        7         9\n",
       "7       30        6         5\n",
       "8       31        9         4\n",
       "9       35       12        11\n",
       "10      33       14         6\n",
       "11      25        9         5\n",
       "12      25        4         3\n",
       "13      27        3         8\n",
       "14      29        4        12\n",
       "15      30       12         7\n",
       "16      19       15         6\n",
       "17      23       11         5"
      ]
     },
     "execution_count": 2,
     "metadata": {},
     "output_type": "execute_result"
    }
   ],
   "source": [
    "df = pd.read_csv('/home/AIML_Student/Documents/B34_aiml/Lab12/data.csv')\n",
    "df"
   ]
  },
  {
   "cell_type": "code",
   "execution_count": 3,
   "metadata": {},
   "outputs": [
    {
     "data": {
      "text/plain": [
       "array([[18,  3, 15],\n",
       "       [19,  4, 14],\n",
       "       [14,  5, 10],\n",
       "       [14,  4,  8],\n",
       "       [11,  7, 14],\n",
       "       [20,  8, 13],\n",
       "       [28,  7,  9],\n",
       "       [30,  6,  5],\n",
       "       [31,  9,  4],\n",
       "       [35, 12, 11],\n",
       "       [33, 14,  6],\n",
       "       [25,  9,  5],\n",
       "       [25,  4,  3],\n",
       "       [27,  3,  8],\n",
       "       [29,  4, 12],\n",
       "       [30, 12,  7],\n",
       "       [19, 15,  6],\n",
       "       [23, 11,  5]])"
      ]
     },
     "execution_count": 3,
     "metadata": {},
     "output_type": "execute_result"
    }
   ],
   "source": [
    "x = df.to_numpy()\n",
    "x"
   ]
  },
  {
   "cell_type": "markdown",
   "metadata": {},
   "source": [
    "No missing values in dataset"
   ]
  },
  {
   "cell_type": "code",
   "execution_count": 81,
   "metadata": {},
   "outputs": [
    {
     "data": {
      "image/png": "[encoded data removed]",
      "text/plain": [
       "<Figure size 432x288 with 1 Axes>"
      ]
     },
     "metadata": {
      "needs_background": "light"
     },
     "output_type": "display_data"
    }
   ],
   "source": [
    "plt.scatter(x[:,[0]], x[:, 2])\n",
    "plt.show()"
   ]
  },
  {
   "cell_type": "markdown",
   "metadata": {},
   "source": [
    "### performing k-means clustering:"
   ]
  },
  {
   "cell_type": "code",
   "execution_count": 4,
   "metadata": {},
   "outputs": [],
   "source": [
    "m = x.shape[0] #number of samples\n",
    "n = x.shape[1] #number of features\n",
    "\n",
    "n_itr = 50 #number of iterations"
   ]
  },
  {
   "cell_type": "code",
   "execution_count": 5,
   "metadata": {},
   "outputs": [
    {
     "name": "stdout",
     "output_type": "stream",
     "text": [
      "1\n"
     ]
    }
   ],
   "source": [
    "#test\n",
    "a = [1, 2, 3, 4]\n",
    "print(a.index(2))"
   ]
  },
  {
   "cell_type": "code",
   "execution_count": 6,
   "metadata": {},
   "outputs": [],
   "source": [
    "#selecting k\n",
    "k = 3"
   ]
  },
  {
   "cell_type": "code",
   "execution_count": 7,
   "metadata": {},
   "outputs": [
    {
     "name": "stdout",
     "output_type": "stream",
     "text": [
      "[]\n"
     ]
    }
   ],
   "source": [
    "#test:\n",
    "output = {\"0\":[],\"1\":[],\"2\":[]} #dictionary with cluster values as keys\n",
    "\n",
    "print(output['0'])"
   ]
  },
  {
   "cell_type": "code",
   "execution_count": 36,
   "metadata": {},
   "outputs": [
    {
     "name": "stdout",
     "output_type": "stream",
     "text": [
      "[[18, 3, 15], [19, 4, 14], [14, 5, 10]]\n",
      "{'0': [], '1': [], '2': []}\n"
     ]
    }
   ],
   "source": [
    "def initialize(k):\n",
    "    centroids = [] #selecting random centroids - here, the first 3 rows\n",
    "    output = {}\n",
    "    for i in range(int(k)):\n",
    "        centroids.append(list(x[i])) #k number of centroids\n",
    "        output[str(i)] = [] #creating empty list for each cluster\n",
    "    return centroids, output\n",
    "   \n",
    "centroids, output = initialize(3)\n",
    "print(centroids)\n",
    "\n",
    "print(output)"
   ]
  },
  {
   "cell_type": "code",
   "execution_count": 23,
   "metadata": {},
   "outputs": [],
   "source": [
    "def cluster(k, centroids):\n",
    "    \n",
    "    c, output = initialize(k)\n",
    "    \n",
    "    for i in x: #for each value in x\n",
    "        dist = [] #euclidian distance of each point with centroid\n",
    "        for j in centroids: #for each centroid\n",
    "            d = 0\n",
    "            for p in range(len(i)): #for each column of value\n",
    "                a = j[p] - i[p]\n",
    "                d+= a**2\n",
    "            d = sqrt(d)\n",
    "            dist.append(d) #distance from each centroid\n",
    "        min_val = str(dist.index(min(dist)))\n",
    "        output[min_val].append(list(i))\n",
    "    return output"
   ]
  },
  {
   "cell_type": "code",
   "execution_count": 10,
   "metadata": {},
   "outputs": [
    {
     "name": "stdout",
     "output_type": "stream",
     "text": [
      "[1.0, 1.0, 1.0]\n"
     ]
    }
   ],
   "source": [
    "#test: \n",
    "p = [3,3,3]\n",
    "# print(p/3) doesnt work\n",
    "p[:]= [x/3 for x in p]\n",
    "print(p)"
   ]
  },
  {
   "cell_type": "code",
   "execution_count": 11,
   "metadata": {},
   "outputs": [
    {
     "name": "stdout",
     "output_type": "stream",
     "text": [
      "3\n"
     ]
    }
   ],
   "source": [
    "print(len(output.keys()))"
   ]
  },
  {
   "cell_type": "code",
   "execution_count": 12,
   "metadata": {},
   "outputs": [],
   "source": [
    "def new_centroids(output):\n",
    "    c= []\n",
    "    sum_vals = []\n",
    "        \n",
    "    for key, values in output.items():\n",
    "        \n",
    "        sum_vals = []\n",
    "        for i in range(len(output.keys())): #for each column\n",
    "            sum_vals.append(0) #initial value for sum of each column\n",
    "            \n",
    "        n = len(values)\n",
    "        for v in values: #finding sum for each column\n",
    "            for i in range(len(v)):\n",
    "                sum_vals[i] += v[i]\n",
    "        #print(f\"cluster: {key} sum: {sum}\")\n",
    "        sum_vals[:] = [x/n for x in sum_vals] #finding mean\n",
    "        c.append(sum_vals) \n",
    "    return c"
   ]
  },
  {
   "cell_type": "code",
   "execution_count": 29,
   "metadata": {},
   "outputs": [
    {
     "name": "stdout",
     "output_type": "stream",
     "text": [
      "{'0': [], '1': [], '2': []}\n",
      "[[18, 3, 15], [19, 4, 14], [14, 5, 10]]\n"
     ]
    }
   ],
   "source": [
    "print(output)\n",
    "print(centroids)"
   ]
  },
  {
   "cell_type": "code",
   "execution_count": 30,
   "metadata": {},
   "outputs": [
    {
     "name": "stdout",
     "output_type": "stream",
     "text": [
      "3\n"
     ]
    },
    {
     "data": {
      "text/plain": [
       "{'0': [[18, 3, 15]],\n",
       " '1': [[19, 4, 14],\n",
       "  [20, 8, 13],\n",
       "  [28, 7, 9],\n",
       "  [30, 6, 5],\n",
       "  [31, 9, 4],\n",
       "  [35, 12, 11],\n",
       "  [33, 14, 6],\n",
       "  [25, 9, 5],\n",
       "  [25, 4, 3],\n",
       "  [27, 3, 8],\n",
       "  [29, 4, 12],\n",
       "  [30, 12, 7]],\n",
       " '2': [[14, 5, 10], [14, 4, 8], [11, 7, 14], [19, 15, 6], [23, 11, 5]]}"
      ]
     },
     "execution_count": 30,
     "metadata": {},
     "output_type": "execute_result"
    }
   ],
   "source": [
    "k = 3\n",
    "output = cluster(3, centroids)\n",
    "output"
   ]
  },
  {
   "cell_type": "code",
   "execution_count": 31,
   "metadata": {},
   "outputs": [
    {
     "data": {
      "text/plain": [
       "[[18.0, 3.0, 15.0],\n",
       " [27.666666666666668, 7.666666666666667, 8.083333333333334],\n",
       " [16.2, 8.4, 8.6]]"
      ]
     },
     "execution_count": 31,
     "metadata": {},
     "output_type": "execute_result"
    }
   ],
   "source": [
    "new_centroids(output)"
   ]
  },
  {
   "cell_type": "markdown",
   "metadata": {},
   "source": [
    "implementing clustering:"
   ]
  },
  {
   "cell_type": "code",
   "execution_count": 37,
   "metadata": {},
   "outputs": [],
   "source": [
    "k = 3\n",
    "centroids, output = initialize(k)\n",
    "\n",
    "for i in range(n_itr):\n",
    "    output = cluster(k, centroids)\n",
    "    centroids = new_centroids(output)"
   ]
  },
  {
   "cell_type": "code",
   "execution_count": 38,
   "metadata": {},
   "outputs": [
    {
     "name": "stdout",
     "output_type": "stream",
     "text": [
      "Final clusters: \n",
      "\n",
      "key: 0 \n",
      "values: [[18, 3, 15], [19, 4, 14], [20, 8, 13]]\n",
      "\n",
      "key: 1 \n",
      "values: [[28, 7, 9], [30, 6, 5], [31, 9, 4], [35, 12, 11], [33, 14, 6], [25, 9, 5], [25, 4, 3], [27, 3, 8], [29, 4, 12], [30, 12, 7], [23, 11, 5]]\n",
      "\n",
      "key: 2 \n",
      "values: [[14, 5, 10], [14, 4, 8], [11, 7, 14], [19, 15, 6]]\n"
     ]
    }
   ],
   "source": [
    "print(\"Final clusters: \")\n",
    "for k, v in output.items():\n",
    "    print(f\"\\nkey: {k} \\nvalues: {v}\")"
   ]
  },
  {
   "cell_type": "code",
   "execution_count": 42,
   "metadata": {},
   "outputs": [],
   "source": [
    "#SSE - Sum of Squares of distance of each point to closest centroid\n",
    "#goal of k_means is to minimize this value\n",
    "\n",
    "def calc_SSE(output, centroid):\n",
    "    SSE = 0\n",
    "    sse_key = 0\n",
    "    for key, val in output.items():\n",
    "        c = centroid[ int(key)]\n",
    "        sse_key = 0\n",
    "        for v in val: #for each value\n",
    "            dist = 0\n",
    "            curr = 0\n",
    "            for i in range(len(v)): #for each column in value\n",
    "                curr = c[i] - v [i]\n",
    "                dist+= curr**2 \n",
    "            #dist = sqrt(dist) - need sum of SQUARES of distances\n",
    "            sse_key += dist #adding square of each dist to SSE\n",
    "        SSE += sse_key\n",
    "    return SSE"
   ]
  },
  {
   "cell_type": "code",
   "execution_count": 43,
   "metadata": {},
   "outputs": [
    {
     "name": "stdout",
     "output_type": "stream",
     "text": [
      "514.75\n"
     ]
    }
   ],
   "source": [
    "SSE = calc_SSE(output, centroids)\n",
    "print(SSE)"
   ]
  },
  {
   "cell_type": "markdown",
   "metadata": {},
   "source": [
    "a. Plot that displays the number of clusters on the x-axis and the Sum Squared Error (SSE) on the y-axis"
   ]
  },
  {
   "cell_type": "code",
   "execution_count": 44,
   "metadata": {},
   "outputs": [],
   "source": [
    "y = []\n",
    "k_vals = [3, 5, 7, 9]\n",
    "for k in k_vals:\n",
    "    centroids, output = initialize(k)\n",
    "\n",
    "    for i in range(n_itr):\n",
    "        output = cluster(k, centroids)\n",
    "        centroids = new_centroids(output)\n",
    "        \n",
    "    SSE = calc_SSE(output, centroids)\n",
    "    y.append(SSE)"
   ]
  },
  {
   "cell_type": "code",
   "execution_count": 46,
   "metadata": {},
   "outputs": [
    {
     "data": {
      "image/png": "[encoded data removed]",
      "text/plain": [
       "<Figure size 432x288 with 1 Axes>"
      ]
     },
     "metadata": {
      "needs_background": "light"
     },
     "output_type": "display_data"
    }
   ],
   "source": [
    "plt.plot(k_vals, y, marker = 'o')\n",
    "plt.show()"
   ]
  },
  {
   "cell_type": "markdown",
   "metadata": {},
   "source": [
    "b. Plot the clusters in different color."
   ]
  },
  {
   "cell_type": "code",
   "execution_count": 47,
   "metadata": {},
   "outputs": [],
   "source": [
    "#k = k_vals[y.index(min(y))] #k value with min SSE"
   ]
  },
  {
   "cell_type": "code",
   "execution_count": 82,
   "metadata": {},
   "outputs": [],
   "source": [
    "k = 5 #taking k= 5\n",
    "\n",
    "centroids, output = initialize(k)\n",
    "\n",
    "for i in range(n_itr):\n",
    "    output = cluster(k, centroids)\n",
    "    centroids = new_centroids(output)"
   ]
  },
  {
   "cell_type": "code",
   "execution_count": 84,
   "metadata": {},
   "outputs": [
    {
     "data": {
      "image/png": "[encoded data removed]",
      "text/plain": [
       "<Figure size 432x288 with 1 Axes>"
      ]
     },
     "metadata": {
      "needs_background": "light"
     },
     "output_type": "display_data"
    }
   ],
   "source": [
    "for k, v in output.items():\n",
    "    vals = np.array(v).reshape(-1, 3)\n",
    "    plt.scatter(vals[:,[0]], vals[:, [2]], marker = 'o', label = k)\n",
    "plt.legend()\n",
    "plt.show()"
   ]
  }
 ],
 "metadata": {
  "kernelspec": {
   "display_name": "Python 3",
   "language": "python",
   "name": "python3"
  },
  "language_info": {
   "codemirror_mode": {
    "name": "ipython",
    "version": 3
   },
   "file_extension": ".py",
   "mimetype": "text/x-python",
   "name": "python",
   "nbconvert_exporter": "python",
   "pygments_lexer": "ipython3",
   "version": "3.7.4"
  }
 },
 "nbformat": 4,
 "nbformat_minor": 5
}
