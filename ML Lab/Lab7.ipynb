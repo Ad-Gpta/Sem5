{
 "cells": [
  {
   "cell_type": "markdown",
   "metadata": {},
   "source": [
    "WEEK-07: LOGISTIC REGRESSION USING STOCHASTIC GRADIENT DESCENT"
   ]
  },
  {
   "cell_type": "code",
   "execution_count": 53,
   "metadata": {},
   "outputs": [],
   "source": [
    "import pandas as pd\n",
    "import numpy as np\n",
    "from math import e, sqrt\n",
    "import matplotlib.pyplot as plt\n",
    "from sklearn.linear_model import LogisticRegression as LR\n",
    "from sklearn.linear_model import SGDRegressor as SGR\n",
    "from sklearn.metrics import mean_squared_error, classification_report, confusion_matrix\n",
    "from sklearn.model_selection import train_test_split"
   ]
  },
  {
   "cell_type": "markdown",
   "metadata": {},
   "source": [
    "1. Create the following data set for two independent variable (X1,X2) and one dependent variable (Y) in CSV.\n",
    "\n",
    "Apply the Logistic Regression to perform the following.\n",
    "\n",
    "a. Calculate the coefficients (B0, B1 and B2).\n",
    "\n",
    "b. Apply the sigmoid function to get the prediction and calculate error.\n",
    "\n",
    "c. From the predicted values calculate the accuracy.\n",
    "\n",
    "d. List the model parameters along with error for every instance of the training data.\n",
    "\n",
    "e. Plot the graph of B1 v/s error and B2 v/s error.\n",
    "\n",
    "f. Use scikit learn model to repeat the above steps and compare the results."
   ]
  },
  {
   "cell_type": "code",
   "execution_count": 2,
   "metadata": {},
   "outputs": [
    {
     "data": {
      "text/html": [
       "<div>\n",
       "<style scoped>\n",
       "    .dataframe tbody tr th:only-of-type {\n",
       "        vertical-align: middle;\n",
       "    }\n",
       "\n",
       "    .dataframe tbody tr th {\n",
       "        vertical-align: top;\n",
       "    }\n",
       "\n",
       "    .dataframe thead th {\n",
       "        text-align: right;\n",
       "    }\n",
       "</style>\n",
       "<table border=\"1\" class=\"dataframe\">\n",
       "  <thead>\n",
       "    <tr style=\"text-align: right;\">\n",
       "      <th></th>\n",
       "      <th>X1</th>\n",
       "      <th>X2</th>\n",
       "      <th>Y</th>\n",
       "    </tr>\n",
       "  </thead>\n",
       "  <tbody>\n",
       "    <tr>\n",
       "      <th>0</th>\n",
       "      <td>2.781084</td>\n",
       "      <td>2.550537</td>\n",
       "      <td>0</td>\n",
       "    </tr>\n",
       "    <tr>\n",
       "      <th>1</th>\n",
       "      <td>1.465489</td>\n",
       "      <td>2.362125</td>\n",
       "      <td>0</td>\n",
       "    </tr>\n",
       "    <tr>\n",
       "      <th>2</th>\n",
       "      <td>3.396562</td>\n",
       "      <td>4.400294</td>\n",
       "      <td>0</td>\n",
       "    </tr>\n",
       "    <tr>\n",
       "      <th>3</th>\n",
       "      <td>1.388070</td>\n",
       "      <td>1.850220</td>\n",
       "      <td>0</td>\n",
       "    </tr>\n",
       "    <tr>\n",
       "      <th>4</th>\n",
       "      <td>3.064072</td>\n",
       "      <td>3.005306</td>\n",
       "      <td>0</td>\n",
       "    </tr>\n",
       "    <tr>\n",
       "      <th>5</th>\n",
       "      <td>7.627531</td>\n",
       "      <td>2.759262</td>\n",
       "      <td>1</td>\n",
       "    </tr>\n",
       "    <tr>\n",
       "      <th>6</th>\n",
       "      <td>5.332441</td>\n",
       "      <td>2.088627</td>\n",
       "      <td>1</td>\n",
       "    </tr>\n",
       "    <tr>\n",
       "      <th>7</th>\n",
       "      <td>6.922597</td>\n",
       "      <td>1.771064</td>\n",
       "      <td>1</td>\n",
       "    </tr>\n",
       "    <tr>\n",
       "      <th>8</th>\n",
       "      <td>8.675419</td>\n",
       "      <td>-0.242070</td>\n",
       "      <td>1</td>\n",
       "    </tr>\n",
       "    <tr>\n",
       "      <th>9</th>\n",
       "      <td>7.673756</td>\n",
       "      <td>3.508563</td>\n",
       "      <td>1</td>\n",
       "    </tr>\n",
       "  </tbody>\n",
       "</table>\n",
       "</div>"
      ],
      "text/plain": [
       "         X1        X2  Y\n",
       "0  2.781084  2.550537  0\n",
       "1  1.465489  2.362125  0\n",
       "2  3.396562  4.400294  0\n",
       "3  1.388070  1.850220  0\n",
       "4  3.064072  3.005306  0\n",
       "5  7.627531  2.759262  1\n",
       "6  5.332441  2.088627  1\n",
       "7  6.922597  1.771064  1\n",
       "8  8.675419 -0.242070  1\n",
       "9  7.673756  3.508563  1"
      ]
     },
     "execution_count": 2,
     "metadata": {},
     "output_type": "execute_result"
    }
   ],
   "source": [
    "df = pd.read_csv('/home/AIML_Student/Documents/B34_aiml/Lab7/dataset.csv')\n",
    "d = df.to_numpy()\n",
    "df"
   ]
  },
  {
   "cell_type": "code",
   "execution_count": 3,
   "metadata": {},
   "outputs": [
    {
     "data": {
      "text/html": [
       "<div>\n",
       "<style scoped>\n",
       "    .dataframe tbody tr th:only-of-type {\n",
       "        vertical-align: middle;\n",
       "    }\n",
       "\n",
       "    .dataframe tbody tr th {\n",
       "        vertical-align: top;\n",
       "    }\n",
       "\n",
       "    .dataframe thead th {\n",
       "        text-align: right;\n",
       "    }\n",
       "</style>\n",
       "<table border=\"1\" class=\"dataframe\">\n",
       "  <thead>\n",
       "    <tr style=\"text-align: right;\">\n",
       "      <th></th>\n",
       "      <th>X1</th>\n",
       "      <th>X2</th>\n",
       "      <th>Y</th>\n",
       "    </tr>\n",
       "  </thead>\n",
       "  <tbody>\n",
       "    <tr>\n",
       "      <th>count</th>\n",
       "      <td>10.000000</td>\n",
       "      <td>10.000000</td>\n",
       "      <td>10.000000</td>\n",
       "    </tr>\n",
       "    <tr>\n",
       "      <th>mean</th>\n",
       "      <td>4.832702</td>\n",
       "      <td>2.405393</td>\n",
       "      <td>0.500000</td>\n",
       "    </tr>\n",
       "    <tr>\n",
       "      <th>std</th>\n",
       "      <td>2.746105</td>\n",
       "      <td>1.225863</td>\n",
       "      <td>0.527046</td>\n",
       "    </tr>\n",
       "    <tr>\n",
       "      <th>min</th>\n",
       "      <td>1.388070</td>\n",
       "      <td>-0.242070</td>\n",
       "      <td>0.000000</td>\n",
       "    </tr>\n",
       "    <tr>\n",
       "      <th>25%</th>\n",
       "      <td>2.851831</td>\n",
       "      <td>1.909822</td>\n",
       "      <td>0.000000</td>\n",
       "    </tr>\n",
       "    <tr>\n",
       "      <th>50%</th>\n",
       "      <td>4.364502</td>\n",
       "      <td>2.456331</td>\n",
       "      <td>0.500000</td>\n",
       "    </tr>\n",
       "    <tr>\n",
       "      <th>75%</th>\n",
       "      <td>7.451297</td>\n",
       "      <td>2.943795</td>\n",
       "      <td>1.000000</td>\n",
       "    </tr>\n",
       "    <tr>\n",
       "      <th>max</th>\n",
       "      <td>8.675419</td>\n",
       "      <td>4.400294</td>\n",
       "      <td>1.000000</td>\n",
       "    </tr>\n",
       "  </tbody>\n",
       "</table>\n",
       "</div>"
      ],
      "text/plain": [
       "              X1         X2          Y\n",
       "count  10.000000  10.000000  10.000000\n",
       "mean    4.832702   2.405393   0.500000\n",
       "std     2.746105   1.225863   0.527046\n",
       "min     1.388070  -0.242070   0.000000\n",
       "25%     2.851831   1.909822   0.000000\n",
       "50%     4.364502   2.456331   0.500000\n",
       "75%     7.451297   2.943795   1.000000\n",
       "max     8.675419   4.400294   1.000000"
      ]
     },
     "execution_count": 3,
     "metadata": {},
     "output_type": "execute_result"
    }
   ],
   "source": [
    "df.describe()"
   ]
  },
  {
   "cell_type": "code",
   "execution_count": 4,
   "metadata": {},
   "outputs": [
    {
     "name": "stdout",
     "output_type": "stream",
     "text": [
      "(10, 2)\n"
     ]
    },
    {
     "data": {
      "text/plain": [
       "array([[ 2.781084,  2.550537],\n",
       "       [ 1.465489,  2.362125],\n",
       "       [ 3.396562,  4.400294],\n",
       "       [ 1.38807 ,  1.85022 ],\n",
       "       [ 3.064072,  3.005306],\n",
       "       [ 7.627531,  2.759262],\n",
       "       [ 5.332441,  2.088627],\n",
       "       [ 6.922597,  1.771064],\n",
       "       [ 8.675419, -0.24207 ],\n",
       "       [ 7.673756,  3.508563]])"
      ]
     },
     "execution_count": 4,
     "metadata": {},
     "output_type": "execute_result"
    }
   ],
   "source": [
    "x = d[:,:-1] #every column except the last one\n",
    "print(x.shape)\n",
    "x"
   ]
  },
  {
   "cell_type": "code",
   "execution_count": 5,
   "metadata": {},
   "outputs": [
    {
     "data": {
      "text/plain": [
       "array([0., 0., 0., 0., 0., 1., 1., 1., 1., 1.])"
      ]
     },
     "execution_count": 5,
     "metadata": {},
     "output_type": "execute_result"
    }
   ],
   "source": [
    "y = d[:, -1] #last column\n",
    "y"
   ]
  },
  {
   "cell_type": "code",
   "execution_count": 6,
   "metadata": {},
   "outputs": [],
   "source": [
    "x_train, x_test, y_train, y_test = train_test_split(x,y, test_size = 0.3) "
   ]
  },
  {
   "cell_type": "code",
   "execution_count": 7,
   "metadata": {},
   "outputs": [],
   "source": [
    "model = LR().fit(x_train, y_train)"
   ]
  },
  {
   "cell_type": "code",
   "execution_count": 8,
   "metadata": {},
   "outputs": [],
   "source": [
    "y_pred = model.predict(x_test)"
   ]
  },
  {
   "cell_type": "code",
   "execution_count": 9,
   "metadata": {},
   "outputs": [
    {
     "name": "stdout",
     "output_type": "stream",
     "text": [
      "[[1 0]\n",
      " [0 2]]\n"
     ]
    }
   ],
   "source": [
    "print(confusion_matrix(y_test, y_pred))"
   ]
  },
  {
   "cell_type": "code",
   "execution_count": 10,
   "metadata": {},
   "outputs": [
    {
     "name": "stdout",
     "output_type": "stream",
     "text": [
      "(3,) (3,)\n"
     ]
    }
   ],
   "source": [
    "print(y_test.shape, y_pred.shape)"
   ]
  },
  {
   "cell_type": "code",
   "execution_count": 11,
   "metadata": {},
   "outputs": [
    {
     "data": {
      "text/plain": [
       "1.0"
      ]
     },
     "execution_count": 11,
     "metadata": {},
     "output_type": "execute_result"
    }
   ],
   "source": [
    "model.score(x_test, y_pred)"
   ]
  },
  {
   "cell_type": "code",
   "execution_count": 12,
   "metadata": {},
   "outputs": [
    {
     "data": {
      "text/plain": [
       "'              precision    recall  f1-score   support\\n\\n         0.0       1.00      1.00      1.00         1\\n         1.0       1.00      1.00      1.00         2\\n\\n    accuracy                           1.00         3\\n   macro avg       1.00      1.00      1.00         3\\nweighted avg       1.00      1.00      1.00         3\\n'"
      ]
     },
     "execution_count": 12,
     "metadata": {},
     "output_type": "execute_result"
    }
   ],
   "source": [
    "classification_report(y_test, y_pred)"
   ]
  },
  {
   "cell_type": "code",
   "execution_count": 13,
   "metadata": {},
   "outputs": [
    {
     "data": {
      "text/plain": [
       "array([1., 0., 1.])"
      ]
     },
     "execution_count": 13,
     "metadata": {},
     "output_type": "execute_result"
    }
   ],
   "source": [
    "y_test"
   ]
  },
  {
   "cell_type": "code",
   "execution_count": 14,
   "metadata": {},
   "outputs": [
    {
     "data": {
      "text/plain": [
       "array([1., 0., 1.])"
      ]
     },
     "execution_count": 14,
     "metadata": {},
     "output_type": "execute_result"
    }
   ],
   "source": [
    "y_pred"
   ]
  },
  {
   "cell_type": "markdown",
   "metadata": {},
   "source": [
    "a. Calculate the coefficients (B0, B1 and B2)."
   ]
  },
  {
   "cell_type": "code",
   "execution_count": 15,
   "metadata": {},
   "outputs": [
    {
     "name": "stdout",
     "output_type": "stream",
     "text": [
      "(1, 2)\n",
      "coefs: 1.023936172217344, -0.2158032210710643\n",
      "intercept: [-4.7436455]\n"
     ]
    }
   ],
   "source": [
    "b0 = model.intercept_\n",
    "b12 = model.coef_\n",
    "print(b12.shape)\n",
    "print(\"coefs: {}, {}\".format(b12[0][0], b12[0][1]))\n",
    "print(f\"intercept: {b0}\")"
   ]
  },
  {
   "cell_type": "code",
   "execution_count": 16,
   "metadata": {},
   "outputs": [
    {
     "data": {
      "text/plain": [
       "(7, 2)"
      ]
     },
     "execution_count": 16,
     "metadata": {},
     "output_type": "execute_result"
    }
   ],
   "source": [
    "x_train.shape"
   ]
  },
  {
   "cell_type": "code",
   "execution_count": 17,
   "metadata": {},
   "outputs": [
    {
     "data": {
      "text/plain": [
       "7"
      ]
     },
     "execution_count": 17,
     "metadata": {},
     "output_type": "execute_result"
    }
   ],
   "source": [
    "x_train[:,0].size"
   ]
  },
  {
   "cell_type": "code",
   "execution_count": null,
   "metadata": {},
   "outputs": [],
   "source": []
  },
  {
   "cell_type": "markdown",
   "metadata": {},
   "source": [
    "b. Apply the sigmoid function to get the prediction and calculate error."
   ]
  },
  {
   "cell_type": "code",
   "execution_count": 18,
   "metadata": {},
   "outputs": [
    {
     "name": "stdout",
     "output_type": "stream",
     "text": [
      "0.5\n",
      "0.37294421275453493\n",
      "0.1715326471575502\n",
      "0.453042929542292\n",
      "0.4709915167035398\n",
      "0.8384956549598112\n",
      "0.5035659525311219\n",
      "predicted:  [1, 0, 0, 0, 0, 1, 1]\n",
      "actual:  [0. 0. 1. 0. 1. 1. 0.]\n"
     ]
    }
   ],
   "source": [
    "#implementing myself:\n",
    "\n",
    "b0 = 0.0\n",
    "b1 = 0.0\n",
    "b2 = 0.0\n",
    "a = 0.3 #alpha\n",
    "y_pred2 = []\n",
    "b0_vals = []\n",
    "b1_vals = []\n",
    "b2_vals = []\n",
    "err = []\n",
    "\n",
    "\n",
    "for i in range(0, x_train[:,0].size):\n",
    "    x1 = x_train[i]\n",
    "    y1 = y_train[i]\n",
    "    \n",
    "    y_pred_new = b1*x1[0] +b2*x1[1] + b0\n",
    "    y_pred_new = 1 / (1 + e**(-y_pred_new))\n",
    "    print(y_pred_new)\n",
    "    y_pred2.append(y_pred_new)\n",
    "    y_pred2[i] = int(np.where(y_pred2[i]>=0.5, 1,0))\n",
    "    b0 = b0 + a*(y1- y_pred_new)*y_pred_new*(1-y_pred_new)\n",
    "    b0_vals.append(b0)\n",
    "    b1 = b1 + a*(y1- y_pred_new)*y_pred_new*(1-y_pred_new)*x1[0]\n",
    "    b1_vals.append(b1)\n",
    "    b2 = b2 + a*(y1- y_pred_new)*y_pred_new*(1-y_pred_new)*x1[1]\n",
    "    b2_vals.append(b2)\n",
    "    \n",
    "    \n",
    "    err1 = y_pred_new - y1\n",
    "    err.append(err1)\n",
    "\n",
    "print('predicted: ',y_pred2)\n",
    "print('actual: ',y_train)"
   ]
  },
  {
   "cell_type": "code",
   "execution_count": 19,
   "metadata": {},
   "outputs": [
    {
     "name": "stdout",
     "output_type": "stream",
     "text": [
      "(3,) (3,)\n"
     ]
    }
   ],
   "source": [
    "#sigmoid function: y = 1 / (1 + e^-x)\n",
    "y_pred_new = b12[0][0]*x_test[:,0] +b12[0][1]*x_test[:,1] + b0\n",
    "\n",
    "y_pred1 = 1/(1+ (e**(-y_pred_new)))\n",
    "\n",
    "print(y_pred_new.shape,y_pred1.shape)"
   ]
  },
  {
   "cell_type": "code",
   "execution_count": 20,
   "metadata": {},
   "outputs": [
    {
     "name": "stdout",
     "output_type": "stream",
     "text": [
      "[0.99922429 0.91947047 0.99300584]\n",
      "[1 1 1]\n",
      "[1. 0. 1.]\n"
     ]
    }
   ],
   "source": [
    "print(y_pred1)\n",
    "y_pred1 = np.where(y_pred1>0.5, 1,0)\n",
    "print(y_pred1)\n",
    "print(y_test)"
   ]
  },
  {
   "cell_type": "code",
   "execution_count": 21,
   "metadata": {},
   "outputs": [
    {
     "name": "stdout",
     "output_type": "stream",
     "text": [
      "rmse: 0.5773502691896257\n"
     ]
    }
   ],
   "source": [
    "mse = mean_squared_error(y_test, y_pred1)\n",
    "rmse = sqrt(mse)\n",
    "print(f\"rmse: {rmse}\")"
   ]
  },
  {
   "cell_type": "markdown",
   "metadata": {},
   "source": [
    "c. From the predicted values calculate the accuracy."
   ]
  },
  {
   "cell_type": "code",
   "execution_count": 22,
   "metadata": {},
   "outputs": [
    {
     "name": "stdout",
     "output_type": "stream",
     "text": [
      "[[0 1]\n",
      " [0 2]]\n"
     ]
    }
   ],
   "source": [
    "cmat = confusion_matrix(y_test, y_pred1)\n",
    "print(cmat)\n",
    "\n",
    "TP = cmat[0][0]\n",
    "TN = cmat[1][1]"
   ]
  },
  {
   "cell_type": "code",
   "execution_count": 23,
   "metadata": {},
   "outputs": [
    {
     "name": "stdout",
     "output_type": "stream",
     "text": [
      "0.6666666666666666\n"
     ]
    }
   ],
   "source": [
    "#accuracy = (number of correct predictions)/(total number of predictions) \n",
    "acc = (TP.size+TN.size)/y_pred1.size\n",
    "print(acc)"
   ]
  },
  {
   "cell_type": "markdown",
   "metadata": {},
   "source": [
    "d. List the model parameters along with error for every instance of the training data."
   ]
  },
  {
   "cell_type": "code",
   "execution_count": 24,
   "metadata": {},
   "outputs": [
    {
     "name": "stdout",
     "output_type": "stream",
     "text": [
      "coefs: b0: -0.0375, b1: -0.127371075, b2: -0.16501102499999998\n",
      "error:  0.5\n",
      "coefs: b0: -0.06366466506471774, b1: -0.16368946163638276, b2: -0.21342141159604205\n",
      "error:  0.37294421275453493\n",
      "coefs: b0: -0.028344815711232596, b1: 0.08081562153850544, b2: -0.15086769792066124\n",
      "error:  -0.8284673528424498\n",
      "coefs: b0: -0.06202335208671881, b1: -0.01284721711877726, b2: -0.2367660510521847\n",
      "error:  0.453042929542292\n",
      "coefs: b0: -0.022481262777844034, b1: 0.33019697577113183, b2: -0.24633800461118402\n",
      "error:  -0.5290084832964602\n",
      "coefs: b0: -0.015919953748612083, b1: 0.3805468603020547, b2: -0.22331723851965488\n",
      "error:  -0.16150434504018885\n",
      "coefs: b0: -0.0536854791824137, b1: 0.3252018981995982, b2: -0.3125241302849735\n",
      "error:  0.5035659525311219\n"
     ]
    }
   ],
   "source": [
    "for i in range(x_train[:,0].size):\n",
    "    print(f\"coefs: b0: {b0_vals[i]}, b1: {b1_vals[i]}, b2: {b2_vals[i]}\")\n",
    "    print(\"error: \", err[i])"
   ]
  },
  {
   "cell_type": "markdown",
   "metadata": {},
   "source": [
    "e. Plot the graph of B1 v/s error and B2 v/s error."
   ]
  },
  {
   "cell_type": "code",
   "execution_count": 25,
   "metadata": {},
   "outputs": [
    {
     "data": {
      "image/png": "[encoded data removed]",
      "text/plain": [
       "<Figure size 432x288 with 1 Axes>"
      ]
     },
     "metadata": {
      "needs_background": "light"
     },
     "output_type": "display_data"
    }
   ],
   "source": [
    "plt.plot(b1_vals, err, label = 'b1')\n",
    "plt.plot(b2_vals, err, label = 'b2')\n",
    "plt.legend()\n",
    "plt.show()"
   ]
  },
  {
   "cell_type": "markdown",
   "metadata": {},
   "source": [
    "f. Use scikit learn model to repeat the above steps and compare the results."
   ]
  },
  {
   "cell_type": "code",
   "execution_count": 26,
   "metadata": {},
   "outputs": [
    {
     "name": "stdout",
     "output_type": "stream",
     "text": [
      "0.7559289460184544\n"
     ]
    }
   ],
   "source": [
    "mse2 =mean_squared_error(y_train, y_pred2)\n",
    "rmse2 = sqrt(mse2)\n",
    "print(rmse2)"
   ]
  },
  {
   "cell_type": "code",
   "execution_count": 27,
   "metadata": {},
   "outputs": [
    {
     "name": "stdout",
     "output_type": "stream",
     "text": [
      "Using scikit rmse:  0.5773502691896257\n",
      "without scikit rmse:  0.7559289460184544\n"
     ]
    }
   ],
   "source": [
    "print('Using scikit rmse: ', rmse)\n",
    "print('without scikit rmse: ', rmse2)"
   ]
  },
  {
   "cell_type": "markdown",
   "metadata": {},
   "source": [
    "2. Use above data set for one independent variable (X=X1) and one dependent variable (Y) in CSV.\n",
    "Applying Logistic Regression, explore the relationship between independent and dependent variables.\n",
    "\n",
    "a. Calculate the coefficients (B0, and B1).\n",
    "\n",
    "b. Apply the sigmoid function to get the prediction and calculate error.\n",
    "\n",
    "c. From the predicted values calculate the accuracy.\n",
    "\n",
    "d. List the model parameters along with error for every instance of the training data.e. Plot the graph of B1 v/s error.\n",
    "\n",
    "f. Visualize the following binary cross entropy function for logistic regression using the above training data\n",
    "\n",
    "Plot y=1 and y=0 cases separately, and then plot the combined graph by considering X in X-axis and cost in Y-axis.\n",
    "\n",
    "g. Use scikit learn model to repeat the above steps and compare the results."
   ]
  },
  {
   "cell_type": "code",
   "execution_count": 47,
   "metadata": {},
   "outputs": [],
   "source": [
    "x = d[:, 1].reshape(-1, 1)\n",
    "x_train, x_test, y_train, y_test = train_test_split(x,y, test_size = 0.3) "
   ]
  },
  {
   "cell_type": "code",
   "execution_count": 29,
   "metadata": {},
   "outputs": [],
   "source": [
    "model = LR().fit(x,y)"
   ]
  },
  {
   "cell_type": "markdown",
   "metadata": {},
   "source": [
    "a. Calculate the coefficients (B0, and B1)."
   ]
  },
  {
   "cell_type": "code",
   "execution_count": 30,
   "metadata": {},
   "outputs": [
    {
     "data": {
      "text/plain": [
       "array([1.28308192])"
      ]
     },
     "execution_count": 30,
     "metadata": {},
     "output_type": "execute_result"
    }
   ],
   "source": [
    "b0m = model.intercept_\n",
    "b0m"
   ]
  },
  {
   "cell_type": "code",
   "execution_count": 31,
   "metadata": {},
   "outputs": [
    {
     "data": {
      "text/plain": [
       "array([[-0.5293715]])"
      ]
     },
     "execution_count": 31,
     "metadata": {},
     "output_type": "execute_result"
    }
   ],
   "source": [
    "b1m = model.coef_\n",
    "b1m"
   ]
  },
  {
   "cell_type": "code",
   "execution_count": 32,
   "metadata": {
    "scrolled": true
   },
   "outputs": [
    {
     "name": "stdout",
     "output_type": "stream",
     "text": [
      "0.5773502691896257\n"
     ]
    }
   ],
   "source": [
    "mse = mean_squared_error(y_test, y_pred)\n",
    "rmse = sqrt(mse)\n",
    "print(rmse)"
   ]
  },
  {
   "cell_type": "markdown",
   "metadata": {},
   "source": [
    "b. Apply the sigmoid function to get the prediction and calculate error."
   ]
  },
  {
   "cell_type": "code",
   "execution_count": 33,
   "metadata": {},
   "outputs": [
    {
     "name": "stdout",
     "output_type": "stream",
     "text": [
      "predicted:  [1, 1, 0, 0, 0, 0, 0]\n",
      "actual:  [1. 0. 0. 1. 0. 1. 1.]\n"
     ]
    }
   ],
   "source": [
    "#sigmoid function: y = 1 / (1 + e^-x)\n",
    "\n",
    "b0 = 0.0\n",
    "b1 = 0.0\n",
    "a = 0.3 #alpha\n",
    "y_pred2 = []\n",
    "b0_vals = []\n",
    "b1_vals = []\n",
    "err = []\n",
    "\n",
    "\n",
    "for i in range(0, x_train[:,0].size):\n",
    "    x1 = x_train[i]\n",
    "    y1 = y_train[i]\n",
    "    \n",
    "    y_pred_new = b1*x1[0] + b0\n",
    "    y_pred_new = 1 / (1 + e**(-y_pred_new))\n",
    "    y_pred2.append(y_pred_new)\n",
    "    \n",
    "    y_pred2[i] = int(np.where(y_pred2[i]>=0.5, 1,0))\n",
    "    b0 = b0 + a*(y1- y_pred_new)*y_pred_new*(1-y_pred_new)\n",
    "    b0_vals.append(b0)\n",
    "    b1 = b1 + a*(y1- y_pred_new)*y_pred_new*(1-y_pred_new)*x1[0]\n",
    "    b1_vals.append(b1)\n",
    "    \n",
    "    err1 = y_pred_new - y1\n",
    "    err.append(err1)\n",
    "\n",
    "print('predicted: ',y_pred2)\n",
    "print('actual: ',y_train)"
   ]
  },
  {
   "cell_type": "markdown",
   "metadata": {},
   "source": [
    "c. From the predicted values calculate the accuracy."
   ]
  },
  {
   "cell_type": "code",
   "execution_count": 34,
   "metadata": {},
   "outputs": [
    {
     "name": "stdout",
     "output_type": "stream",
     "text": [
      "[[2 1]\n",
      " [3 1]]\n",
      "2 1\n"
     ]
    }
   ],
   "source": [
    "cmat = confusion_matrix(y_train, y_pred2)\n",
    "print(cmat)\n",
    "\n",
    "TP = cmat[0][0]\n",
    "TN = cmat[1][1]\n",
    "print(TP, TN)"
   ]
  },
  {
   "cell_type": "code",
   "execution_count": 35,
   "metadata": {},
   "outputs": [
    {
     "name": "stdout",
     "output_type": "stream",
     "text": [
      "0.42857142857142855\n"
     ]
    }
   ],
   "source": [
    "acc = (TN+TP)/len(y_pred2)\n",
    "print(acc)"
   ]
  },
  {
   "cell_type": "markdown",
   "metadata": {},
   "source": [
    "d. List the model parameters along with error for every instance of the training data."
   ]
  },
  {
   "cell_type": "code",
   "execution_count": 36,
   "metadata": {},
   "outputs": [
    {
     "name": "stdout",
     "output_type": "stream",
     "text": [
      "\n",
      "Itr:  0\n",
      "coefs: b0: 0.0375, b1: -0.009077625\n",
      "error:  -0.5\n",
      "\n",
      "Itr:  1\n",
      "coefs: b0: -0.00019061982681451567, b1: -0.12234947090924463\n",
      "error:  0.5025547175486588\n",
      "\n",
      "Itr:  2\n",
      "coefs: b0: -0.025918600949008514, b1: -0.23556015187334814\n",
      "error:  0.3685216345429813\n",
      "\n",
      "Itr:  3\n",
      "coefs: b0: 0.018064899936104068, b1: -0.14369502437017811\n",
      "error:  -0.6266603036948912\n",
      "\n",
      "Itr:  4\n",
      "coefs: b0: -0.012660781070199904, b1: -0.21627292361719389\n",
      "error:  0.42034416835885036\n",
      "\n",
      "Itr:  5\n",
      "coefs: b0: 0.03045339587054728, b1: -0.13991495694780642\n",
      "error:  -0.5976526519672121\n",
      "\n",
      "Itr:  6\n",
      "coefs: b0: 0.07408373266291152, b1: 0.01316482839942143\n",
      "error:  -0.6131202223328452\n"
     ]
    }
   ],
   "source": [
    "for i in range(len(y_pred2)):\n",
    "    print('\\nItr: ', i)\n",
    "    print(f\"coefs: b0: {b0_vals[i]}, b1: {b1_vals[i]}\")\n",
    "    print(\"error: \", err[i])"
   ]
  },
  {
   "cell_type": "markdown",
   "metadata": {},
   "source": [
    "e. Plot the graph of B1 v/s error."
   ]
  },
  {
   "cell_type": "code",
   "execution_count": 37,
   "metadata": {},
   "outputs": [
    {
     "data": {
      "image/png": "[encoded data removed]",
      "text/plain": [
       "<Figure size 432x288 with 1 Axes>"
      ]
     },
     "metadata": {
      "needs_background": "light"
     },
     "output_type": "display_data"
    }
   ],
   "source": [
    "plt.plot(b1_vals, err)\n",
    "plt.title('b1 vs error')\n",
    "plt.show()"
   ]
  },
  {
   "cell_type": "code",
   "execution_count": 38,
   "metadata": {},
   "outputs": [
    {
     "name": "stdout",
     "output_type": "stream",
     "text": [
      "0.7559289460184544\n"
     ]
    }
   ],
   "source": [
    "mse2 =mean_squared_error(y_train, y_pred2)\n",
    "rmse2 = sqrt(mse2)\n",
    "print(rmse2)"
   ]
  },
  {
   "cell_type": "markdown",
   "metadata": {},
   "source": [
    "g. Use scikit learn model to repeat the above steps and compare the results."
   ]
  },
  {
   "cell_type": "code",
   "execution_count": 39,
   "metadata": {},
   "outputs": [
    {
     "name": "stdout",
     "output_type": "stream",
     "text": [
      "Using scikit rmse:  0.5773502691896257\n",
      "without scikit rmse:  0.7559289460184544\n"
     ]
    }
   ],
   "source": [
    "print('Using scikit rmse: ', rmse)\n",
    "print('without scikit rmse: ', rmse2)"
   ]
  },
  {
   "cell_type": "markdown",
   "metadata": {},
   "source": [
    "3. Use the above data set for two independent variable (X1,X2) and one dependent variable (Y) in CSV.\n",
    "Apply the Logistic Regression with SGD to perform the following.\n",
    "a. Calculate the coefficients (B0, B1 and B2) and arrive at different values of B0, B1, B2, and error \n",
    "b. Apply the sigmoid function to get the prediction and calculate error.\n",
    "c. From the predicted values calculate the accuracy.\n",
    "d. Plot the graph of epoch (X-axis) v/s Accuracy (Y-axis).\n",
    "f. Use scikit learn model to repeat the above steps and compare the results."
   ]
  },
  {
   "cell_type": "code",
   "execution_count": 48,
   "metadata": {},
   "outputs": [
    {
     "name": "stdout",
     "output_type": "stream",
     "text": [
      "(10, 2) (10, 1)\n",
      "[[ 2.781084  2.550537]\n",
      " [ 1.465489  2.362125]\n",
      " [ 3.396562  4.400294]\n",
      " [ 1.38807   1.85022 ]\n",
      " [ 3.064072  3.005306]\n",
      " [ 7.627531  2.759262]\n",
      " [ 5.332441  2.088627]\n",
      " [ 6.922597  1.771064]\n",
      " [ 8.675419 -0.24207 ]\n",
      " [ 7.673756  3.508563]]\n"
     ]
    }
   ],
   "source": [
    "x = d[:, :-1].reshape(-1, 2)\n",
    "y = d[:,-1].reshape(-1,1)\n",
    "\n",
    "print(x.shape, y.shape)\n",
    "print(x)"
   ]
  },
  {
   "cell_type": "code",
   "execution_count": 49,
   "metadata": {},
   "outputs": [],
   "source": [
    "x_train, x_test, y_train, y_test = train_test_split(x,y, test_size = 0.3) "
   ]
  },
  {
   "cell_type": "code",
   "execution_count": 54,
   "metadata": {},
   "outputs": [],
   "source": [
    "model = SGR().fit(x,y.ravel())"
   ]
  },
  {
   "cell_type": "code",
   "execution_count": 55,
   "metadata": {},
   "outputs": [
    {
     "data": {
      "text/plain": [
       "array([-0.01052288])"
      ]
     },
     "execution_count": 55,
     "metadata": {},
     "output_type": "execute_result"
    }
   ],
   "source": [
    "b0 = model.intercept_\n",
    "b0"
   ]
  },
  {
   "cell_type": "code",
   "execution_count": 57,
   "metadata": {},
   "outputs": [
    {
     "data": {
      "text/plain": [
       "array([ 0.13971234, -0.05559112])"
      ]
     },
     "execution_count": 57,
     "metadata": {},
     "output_type": "execute_result"
    }
   ],
   "source": [
    "b1 = model.coef_\n",
    "b1"
   ]
  },
  {
   "cell_type": "code",
   "execution_count": 64,
   "metadata": {},
   "outputs": [
    {
     "name": "stdout",
     "output_type": "stream",
     "text": [
      "[0.23624169 0.25049749 0.06291086]\n",
      "[0 0 0]\n"
     ]
    }
   ],
   "source": [
    "y_pred = model.predict(x_test)\n",
    "print(y_pred)\n",
    "\n",
    "y_pred = 1/(1+e**y_pred)\n",
    "y_pred = np.where(y_pred>0.5, 1, 0)\n",
    "print(y_pred)"
   ]
  },
  {
   "cell_type": "code",
   "execution_count": 65,
   "metadata": {},
   "outputs": [
    {
     "name": "stdout",
     "output_type": "stream",
     "text": [
      "rmse:  0.0\n"
     ]
    }
   ],
   "source": [
    "mse = mean_squared_error(y_pred, y_test)\n",
    "rmse = sqrt(mse)\n",
    "print(\"rmse: \", rmse)"
   ]
  },
  {
   "cell_type": "code",
   "execution_count": 66,
   "metadata": {},
   "outputs": [],
   "source": [
    "from sklearn.metrics import accuracy_score"
   ]
  },
  {
   "cell_type": "code",
   "execution_count": 67,
   "metadata": {},
   "outputs": [
    {
     "name": "stdout",
     "output_type": "stream",
     "text": [
      "1.0\n"
     ]
    }
   ],
   "source": [
    "score = accuracy_score(y_test, y_pred)  \n",
    "print(score)  "
   ]
  },
  {
   "cell_type": "code",
   "execution_count": null,
   "metadata": {},
   "outputs": [],
   "source": []
  }
 ],
 "metadata": {
  "kernelspec": {
   "display_name": "Python 3",
   "language": "python",
   "name": "python3"
  },
  "language_info": {
   "codemirror_mode": {
    "name": "ipython",
    "version": 3
   },
   "file_extension": ".py",
   "mimetype": "text/x-python",
   "name": "python",
   "nbconvert_exporter": "python",
   "pygments_lexer": "ipython3",
   "version": "3.7.4"
  }
 },
 "nbformat": 4,
 "nbformat_minor": 5
}
