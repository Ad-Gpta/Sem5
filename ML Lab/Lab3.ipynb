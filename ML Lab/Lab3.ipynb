{
 "cells": [
  {
   "cell_type": "markdown",
   "metadata": {},
   "source": [
    "Q1)\n",
    "Consider the hepatitis/ pima-indians-diabetes csv file, perform the following date pre-processing.\n",
    "1. Load data in Pandas.\n",
    "2. Drop columns that aren’t useful.\n",
    "3. Drop rows with missing values.\n",
    "4. Create dummy variables.\n",
    "5. Take care of missing data.\n",
    "6. Convert the data frame to NumPy.\n",
    "7. Divide the data set into training data and test data."
   ]
  },
  {
   "cell_type": "code",
   "execution_count": 2,
   "metadata": {},
   "outputs": [
    {
     "name": "stdout",
     "output_type": "stream",
     "text": [
      "     Pregnancies  Glucose  BloodPressure  SkinThickness  Insulin   BMI  \\\n",
      "0              6      148             72             35        0  33.6   \n",
      "1              1       85             66             29        0  26.6   \n",
      "2              8      183             64              0        0  23.3   \n",
      "3              1       89             66             23       94  28.1   \n",
      "4              0      137             40             35      168  43.1   \n",
      "..           ...      ...            ...            ...      ...   ...   \n",
      "763           10      101             76             48      180  32.9   \n",
      "764            2      122             70             27        0  36.8   \n",
      "765            5      121             72             23      112  26.2   \n",
      "766            1      126             60              0        0  30.1   \n",
      "767            1       93             70             31        0  30.4   \n",
      "\n",
      "     DiabetesPedigreeFunction  Age  Outcome  \n",
      "0                       0.627   50        1  \n",
      "1                       0.351   31        0  \n",
      "2                       0.672   32        1  \n",
      "3                       0.167   21        0  \n",
      "4                       2.288   33        1  \n",
      "..                        ...  ...      ...  \n",
      "763                     0.171   63        0  \n",
      "764                     0.340   27        0  \n",
      "765                     0.245   30        0  \n",
      "766                     0.349   47        1  \n",
      "767                     0.315   23        0  \n",
      "\n",
      "[768 rows x 9 columns]\n",
      "     Glucose  Insulin   BMI  DiabetesPedigreeFunction  Age  Outcome\n",
      "3       89.0     94.0  28.1                     0.167   21      0.0\n",
      "4      137.0    168.0  43.1                     2.288   33      1.0\n",
      "6       78.0     88.0  31.0                     0.248   26      1.0\n",
      "8      197.0    543.0  30.5                     0.158   53      1.0\n",
      "13     189.0    846.0  30.1                     0.398   59      1.0\n",
      "..       ...      ...   ...                       ...  ...      ...\n",
      "753    181.0    510.0  43.3                     0.222   26      1.0\n",
      "755    128.0    110.0  36.5                     1.057   37      1.0\n",
      "760     88.0     16.0  28.4                     0.766   22      0.0\n",
      "763    101.0    180.0  32.9                     0.171   63      0.0\n",
      "765    121.0    112.0  26.2                     0.245   30      0.0\n",
      "\n",
      "[392 rows x 6 columns]\n",
      "     0.0  1.0\n",
      "3      1    0\n",
      "4      0    1\n",
      "6      0    1\n",
      "8      0    1\n",
      "13     0    1\n",
      "..   ...  ...\n",
      "753    0    1\n",
      "755    0    1\n",
      "760    1    0\n",
      "763    1    0\n",
      "765    1    0\n",
      "\n",
      "[392 rows x 2 columns]\n"
     ]
    }
   ],
   "source": [
    "import pandas as pd\n",
    "df = pd.read_csv('/home/AIML_Student/Documents/B34_aiml/Lab3/diabetes_csv.csv')\n",
    "print(df)\n",
    "#dropping columns Pregnancies, SkinThickness and BloodPressure\n",
    "df = df.drop('BloodPressure', axis = 1)\n",
    "df = df.drop('SkinThickness',axis =1)\n",
    "df = df.drop('Pregnancies',axis =1)\n",
    "count = 0\n",
    "\n",
    "#dropping rows with missing values\n",
    "#print(df==0) #True or False\n",
    "df = df[df!=0] #converting all 0's to Nan\n",
    "df = df.dropna(subset=df.columns.difference(['Outcome'])) #dropping NaN values except column Outcome\n",
    "df = df.fillna(0) #filling NaN values in Outcome with 0\n",
    "print(df) #df with no null values\n",
    "\n",
    "#creating dummy variables\n",
    "dummies = pd.get_dummies(df['Outcome'])\n",
    "print(dummies)\n",
    "\n",
    "#take care of missing data\n",
    "#no missing data left in df"
   ]
  },
  {
   "cell_type": "code",
   "execution_count": 56,
   "metadata": {},
   "outputs": [
    {
     "name": "stdout",
     "output_type": "stream",
     "text": [
      "     Insulin\n",
      "3       94.0\n",
      "4      168.0\n",
      "6       88.0\n",
      "8      543.0\n",
      "13     846.0\n",
      "..       ...\n",
      "753    510.0\n",
      "755    110.0\n",
      "760     16.0\n",
      "763    180.0\n",
      "765    112.0\n",
      "\n",
      "[392 rows x 1 columns]\n",
      "3      21\n",
      "4      33\n",
      "6      26\n",
      "8      53\n",
      "13     59\n",
      "       ..\n",
      "753    26\n",
      "755    37\n",
      "760    22\n",
      "763    63\n",
      "765    30\n",
      "Name: Age, Length: 392, dtype: int64\n"
     ]
    },
    {
     "data": {
      "text/plain": [
       "'print(X_train)\\nprint(Y_train)\\nprint(X_test)\\nprint(Y_test)'"
      ]
     },
     "execution_count": 56,
     "metadata": {},
     "output_type": "execute_result"
    }
   ],
   "source": [
    "#taking only DiabetesPedigreeFunction and Outcome\n",
    "df1 = pd.DataFrame(df, columns = ['Insulin','Age'])\n",
    "\n",
    "#Convert the df to numpy\n",
    "import numpy as np\n",
    "ar = df1.to_numpy(dtype = float)\n",
    "\n",
    "#Divide the data set into training data and test data.\n",
    "from sklearn.linear_model import LinearRegression\n",
    "from sklearn.model_selection import train_test_split\n",
    "# get the locations\n",
    "X = df1.iloc[:, :-1]\n",
    "Y = df1.iloc[:, -1]\n",
    "\n",
    "# split the dataset\n",
    "X_train, X_test, Y_train, Y_test = train_test_split(X, Y, test_size=0.05, random_state=0)\n",
    "\"\"\"print(X_train)\n",
    "print(Y_train)\n",
    "print(X_test)\n",
    "print(Y_test)\"\"\""
   ]
  },
  {
   "cell_type": "raw",
   "metadata": {},
   "source": [
    "Q2)\n",
    "Consider the hepatitis/ diabetes csv file, create the regression model display the co-efficients (B0-intercept and B1-Slope), RMSE and predict the response. Plot the graph x v/s y in yellow and x v/s prediction in green."
   ]
  },
  {
   "cell_type": "code",
   "execution_count": 57,
   "metadata": {},
   "outputs": [],
   "source": [
    "from sklearn.metrics import mean_squared_error\n",
    "import math"
   ]
  },
  {
   "cell_type": "code",
   "execution_count": 58,
   "metadata": {},
   "outputs": [
    {
     "data": {
      "text/plain": [
       "LinearRegression()"
      ]
     },
     "execution_count": 58,
     "metadata": {},
     "output_type": "execute_result"
    }
   ],
   "source": [
    "model = LinearRegression(fit_intercept = True)\n",
    "model.fit(X,Y)"
   ]
  },
  {
   "cell_type": "code",
   "execution_count": 59,
   "metadata": {},
   "outputs": [
    {
     "name": "stdout",
     "output_type": "stream",
     "text": [
      "coefficient of determination: 0.04712459077515563\n",
      "intercept: b0: 27.95696584955654\n",
      "slope: b1: [0.01863323]\n",
      "rmse:  9.944813397637569\n"
     ]
    }
   ],
   "source": [
    "r_sq = model.score(X,Y)\n",
    "b0 = model.intercept_\n",
    "b1 = model.coef_\n",
    "print(f\"coefficient of determination: {r_sq}\")\n",
    "print(f\"intercept: b0: {model.intercept_}\")\n",
    "print(f\"slope: b1: {model.coef_}\")\n",
    "\n",
    "Y_pred = b0 + b1 * X\n",
    "\n",
    "mse = mean_squared_error(Y, Y_pred)\n",
    "rmse = math.sqrt(mse)\n",
    "print(\"rmse: \",rmse)\n"
   ]
  },
  {
   "cell_type": "code",
   "execution_count": 63,
   "metadata": {},
   "outputs": [
    {
     "data": {
      "image/png": "[encoded data removed]",
      "text/plain": [
       "<Figure size 432x288 with 1 Axes>"
      ]
     },
     "metadata": {
      "needs_background": "light"
     },
     "output_type": "display_data"
    }
   ],
   "source": [
    "import matplotlib.pyplot as plt\n",
    "plt.scatter(X,Y,color = 'y', marker = 'o')\n",
    "plt.plot(X,Y_pred, color = 'g')\n",
    "plt.title('Insulin levels vs Age')\n",
    "plt.show()"
   ]
  },
  {
   "cell_type": "code",
   "execution_count": null,
   "metadata": {},
   "outputs": [],
   "source": []
  }
 ],
 "metadata": {
  "kernelspec": {
   "display_name": "Python 3",
   "language": "python",
   "name": "python3"
  },
  "language_info": {
   "codemirror_mode": {
    "name": "ipython",
    "version": 3
   },
   "file_extension": ".py",
   "mimetype": "text/x-python",
   "name": "python",
   "nbconvert_exporter": "python",
   "pygments_lexer": "ipython3",
   "version": "3.7.4"
  }
 },
 "nbformat": 4,
 "nbformat_minor": 5
}
