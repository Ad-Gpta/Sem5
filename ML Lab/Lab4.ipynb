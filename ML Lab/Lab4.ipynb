{
 "cells": [
  {
   "cell_type": "markdown",
   "metadata": {},
   "source": [
    "Q1)\n",
    "Consider the  Table Contains the Average Annual Gold Rate from 1965 – 2022. Gold prices fluctuated throughout the year 2020 because of the COVID-19 epidemic. With gold functioning as a safe haven for investors, demand for the precious metal grew, and its price followed suit. During the epidemic, the stock market weakened, but it began to recover by the end of 2020 when the price of gold fell slightly.\n",
    "It’s crucial to remember that gold prices fluctuate during the year, and the figure below represents the average price for that year.\n",
    "With the exception of a few lows shared across a few years, The table shows that the gold price trend has always been upward, supporting the claim that gold is a secure investment over extended periods of time.\n",
    "\n",
    "Write a python program to find the fitted simple linear regression equation for the given data. \n",
    "Compare the coefficients obtained from sklearn model with your program. Compute the error, MSE and RMSE. Predict the gold price with the year 2025 for 1 gram."
   ]
  },
  {
   "cell_type": "code",
   "execution_count": 1,
   "metadata": {},
   "outputs": [],
   "source": [
    "#step 1: create the csv file\n",
    "#step 2: import csv file"
   ]
  },
  {
   "cell_type": "code",
   "execution_count": 2,
   "metadata": {},
   "outputs": [],
   "source": [
    "import pandas as pd\n",
    "import numpy as np\n",
    "from sklearn.linear_model import LinearRegression\n",
    "import matplotlib.pyplot as plt\n",
    "import math"
   ]
  },
  {
   "cell_type": "code",
   "execution_count": 3,
   "metadata": {},
   "outputs": [
    {
     "name": "stdout",
     "output_type": "stream",
     "text": [
      "    Year  Price(24karatper10grams)\n",
      "0   1964                        64\n",
      "1   1965                        72\n",
      "2   1966                        84\n",
      "3   1967                       103\n",
      "4   1968                       162\n",
      "5   1969                       176\n",
      "6   1970                       184\n",
      "7   1971                       193\n",
      "8   1972                       202\n",
      "9   1973                       279\n",
      "10  1974                       506\n",
      "11  1975                       540\n",
      "12  1976                       432\n",
      "13  1977                       486\n",
      "14  1978                       685\n",
      "15  1979                       937\n",
      "16  1980                      1330\n",
      "17  1981                      1800\n",
      "18  1982                      1645\n",
      "19  1983                      1800\n",
      "20  1984                      1970\n",
      "21  1985                      2130\n",
      "22  1986                      2140\n",
      "23  1987                      2570\n",
      "24  1988                      3130\n",
      "25  1989                      3140\n",
      "26  1990                      3200\n",
      "27  1991                      3466\n",
      "28  1992                      4334\n",
      "29  1993                      4140\n",
      "30  1994                      4598\n",
      "31  1995                      4680\n",
      "32  1996                      5160\n",
      "33  1997                      4725\n",
      "34  1998                      4045\n",
      "35  1999                      4234\n",
      "36  2000                      4400\n",
      "37  2001                      4300\n",
      "38  2002                      4990\n",
      "39  2003                      5600\n",
      "40  2004                      5850\n",
      "41  2005                      7000\n",
      "42  2007                     10800\n",
      "43  2008                     12500\n",
      "44  2009                     14500\n",
      "45  2010                     18500\n",
      "46  2011                     26400\n",
      "47  2012                     31050\n",
      "48  2013                     29600\n",
      "49  2014                     28007\n",
      "50  2015                     26344\n",
      "51  2016                     28624\n",
      "52  2017                     29668\n",
      "53  2018                     31438\n",
      "54  2019                     35220\n",
      "55  2020                     48651\n",
      "56  2021                     48720\n",
      "57  2022                     52670\n",
      "58  2023                     61080\n"
     ]
    }
   ],
   "source": [
    "df = pd.read_csv(\"C:/Users/Aditi/Documents/Manipal/3rd year/ML/Data/gold_prices.csv\")\n",
    "print(df)\n",
    "\n",
    "d = df.to_numpy(dtype = int)"
   ]
  },
  {
   "cell_type": "code",
   "execution_count": 4,
   "metadata": {},
   "outputs": [
    {
     "name": "stdout",
     "output_type": "stream",
     "text": [
      "\n",
      "X:\n",
      "  [1964 1965 1966 1967 1968 1969 1970 1971 1972 1973 1974 1975 1976 1977\n",
      " 1978 1979 1980 1981 1982 1983 1984 1985 1986 1987 1988 1989 1990 1991\n",
      " 1992 1993 1994 1995 1996 1997 1998 1999 2000 2001 2002 2003 2004 2005\n",
      " 2007 2008 2009 2010 2011 2012 2013 2014 2015 2016 2017 2018 2019 2020\n",
      " 2021 2022 2023]\n",
      "\n",
      "Y:\n",
      "  [   64    72    84   103   162   176   184   193   202   279   506   540\n",
      "   432   486   685   937  1330  1800  1645  1800  1970  2130  2140  2570\n",
      "  3130  3140  3200  3466  4334  4140  4598  4680  5160  4725  4045  4234\n",
      "  4400  4300  4990  5600  5850  7000 10800 12500 14500 18500 26400 31050\n",
      " 29600 28007 26344 28624 29668 31438 35220 48651 48720 52670 61080]\n"
     ]
    }
   ],
   "source": [
    "\"\"\"X = np.array(df['Year'])\n",
    "Y = np.array(df['Price (24 karat per 10 grams)'])\n",
    "\n",
    "X.reshape(-1, 1) #one col and as many rows as necessary\n",
    "Y.reshape(-1, 1)\n",
    "\n",
    "X.dtype\"\"\"\n",
    "\n",
    "X = d[:,0]\n",
    "Y = d[:,1]\n",
    "\n",
    "X.reshape((-1, 1)) #one col and as many rows as necessary\n",
    "Y.reshape((-1, 1))\n",
    "\n",
    "print(\"\\nX:\\n \",X)\n",
    "print(\"\\nY:\\n \",Y)"
   ]
  },
  {
   "cell_type": "code",
   "execution_count": 5,
   "metadata": {},
   "outputs": [],
   "source": [
    "def estimate_coef(x, y):\n",
    "    # number of observations/points\n",
    "    n = np.size(x)\n",
    " \n",
    "    # mean of x and y vector\n",
    "    m_x = np.mean(x)\n",
    "    m_y = np.mean(y)\n",
    " \n",
    "    # calculating cross-deviation and deviation about x\n",
    "    SS_xy = np.sum(y*x) - n*m_y*m_x\n",
    "    SS_xx = np.sum(x*x) - n*m_x*m_x\n",
    " \n",
    "    # calculating regression coefficients\n",
    "    b_1 = SS_xy / SS_xx #slope\n",
    "    b_0 = m_y - b_1*m_x #y intercept\n",
    " \n",
    "    return (b_0, b_1)\n",
    " "
   ]
  },
  {
   "cell_type": "code",
   "execution_count": 6,
   "metadata": {},
   "outputs": [
    {
     "name": "stdout",
     "output_type": "stream",
     "text": [
      "Estimated coefficients:\n",
      "b_0 = -1415528.2012147112, b_1 = 715.5489428222506\n"
     ]
    },
    {
     "data": {
      "image/png": "[encoded data removed]",
      "text/plain": [
       "<Figure size 432x288 with 1 Axes>"
      ]
     },
     "metadata": {
      "needs_background": "light"
     },
     "output_type": "display_data"
    }
   ],
   "source": [
    "b = estimate_coef(X, Y)\n",
    "print(\"Estimated coefficients:\\nb_0 = {}, b_1 = {}\".format(b[0], b[1]))\n",
    " \n",
    "# plotting regression line\n",
    "plt.scatter(X, Y, color = \"m\", s = 3)\n",
    "\n",
    "y_pred = b[0] + b[1]*X\n",
    "\n",
    "plt.plot(X, y_pred, color = \"g\")\n",
    "plt.xlabel('year')\n",
    "plt.ylabel('price')\n",
    "plt.show()"
   ]
  },
  {
   "cell_type": "code",
   "execution_count": 7,
   "metadata": {},
   "outputs": [
    {
     "data": {
      "image/png": "[encoded data removed]",
      "text/plain": [
       "<Figure size 432x288 with 1 Axes>"
      ]
     },
     "metadata": {
      "needs_background": "light"
     },
     "output_type": "display_data"
    },
    {
     "name": "stdout",
     "output_type": "stream",
     "text": [
      "rmse:  8691.827705926153\n"
     ]
    }
   ],
   "source": [
    "err = y_pred - Y\n",
    "plt.plot(X, err, color = 'r')\n",
    "plt.title('Error vs year')\n",
    "plt.show()\n",
    "\n",
    "mse = np.square(np.subtract(Y,y_pred)).mean()\n",
    "rmse = math.sqrt(mse)\n",
    "print(\"rmse: \",rmse)"
   ]
  },
  {
   "cell_type": "code",
   "execution_count": 8,
   "metadata": {},
   "outputs": [
    {
     "name": "stdout",
     "output_type": "stream",
     "text": [
      "Predicted gold price in 2025:  33458.40800034627\n",
      "Predicted gold price in 2025 (1 gram):  3345.840800034627\n"
     ]
    }
   ],
   "source": [
    "#gold price estimate for 2025:\n",
    "est = b[0]+ b[1]*2025 #year = x = 2025\n",
    "print(\"Predicted gold price in 2025: \", est)\n",
    "#for 1 gram\n",
    "est1 = est/10\n",
    "print(\"Predicted gold price in 2025 (1 gram): \", est1)"
   ]
  },
  {
   "cell_type": "code",
   "execution_count": 9,
   "metadata": {},
   "outputs": [],
   "source": [
    "#sklearn requires dataFrame format\n",
    "X = df.iloc[:, :-1]\n",
    "Y = df.iloc[:, -1]"
   ]
  },
  {
   "cell_type": "code",
   "execution_count": 10,
   "metadata": {},
   "outputs": [
    {
     "data": {
      "image/png": "[encoded data removed]",
      "text/plain": [
       "<Figure size 432x288 with 1 Axes>"
      ]
     },
     "metadata": {
      "needs_background": "light"
     },
     "output_type": "display_data"
    }
   ],
   "source": [
    "model = LinearRegression(fit_intercept = True)\n",
    "model.fit(X,Y)\n",
    "\n",
    "b0 = model.intercept_\n",
    "b1 = model.coef_\n",
    "\n",
    "Y_pred = b0 + b1 * X\n",
    "\n",
    "plt.scatter(X,Y)\n",
    "plt.plot(X,Y_pred)\n",
    "plt.title('Year vs Price (24 karat per 10 grams)')\n",
    "plt.show()"
   ]
  },
  {
   "cell_type": "code",
   "execution_count": 11,
   "metadata": {},
   "outputs": [
    {
     "name": "stdout",
     "output_type": "stream",
     "text": [
      "Predicted gold price in 2025:  [33458.40800034]\n",
      "Predicted gold price in 2025 (1 gram):  [3345.84080003]\n"
     ]
    }
   ],
   "source": [
    "#gold price estimate for 2025:\n",
    "est2 = b0+ b1*2025 #year = x = 2025\n",
    "print(\"Predicted gold price in 2025: \", est2)\n",
    "#for 1 gram\n",
    "est3 = est2/10\n",
    "print(\"Predicted gold price in 2025 (1 gram): \", est3)"
   ]
  },
  {
   "cell_type": "code",
   "execution_count": 12,
   "metadata": {},
   "outputs": [
    {
     "name": "stdout",
     "output_type": "stream",
     "text": [
      "difference in results:  [4.42378223e-09]\n"
     ]
    }
   ],
   "source": [
    "print(\"difference in results: \", est-est2)"
   ]
  },
  {
   "cell_type": "markdown",
   "metadata": {},
   "source": [
    "Q2)\n",
    "Consider the Question no 1 gold price with following year-wise silver price. Write a python program to find the fitted multiple linear regression equation for the given data.  Compare the coefficients obtained from sklearn model with your program. Compute the error, MSE and RMSE. Predict the gold and silver price with the year 2024 for 1 gram."
   ]
  },
  {
   "cell_type": "code",
   "execution_count": 5,
   "metadata": {},
   "outputs": [
    {
     "name": "stdout",
     "output_type": "stream",
     "text": [
      "    Year  Price(24karatper10grams)\n",
      "17  1981                      1800\n",
      "18  1982                      1645\n",
      "19  1983                      1800\n",
      "20  1984                      1970\n",
      "21  1985                      2130\n",
      "22  1986                      2140\n",
      "23  1987                      2570\n",
      "24  1988                      3130\n",
      "25  1989                      3140\n",
      "26  1990                      3200\n",
      "27  1991                      3466\n",
      "28  1992                      4334\n",
      "29  1993                      4140\n",
      "30  1994                      4598\n",
      "31  1995                      4680\n",
      "32  1996                      5160\n",
      "33  1997                      4725\n",
      "34  1998                      4045\n",
      "35  1999                      4234\n",
      "36  2000                      4400\n",
      "37  2001                      4300\n",
      "38  2002                      4990\n",
      "39  2003                      5600\n",
      "40  2004                      5850\n",
      "41  2005                      7000\n",
      "42  2007                     10800\n",
      "43  2008                     12500\n",
      "44  2009                     14500\n",
      "45  2010                     18500\n",
      "46  2011                     26400\n",
      "47  2012                     31050\n",
      "48  2013                     29600\n",
      "49  2014                     28007\n",
      "50  2015                     26344\n",
      "51  2016                     28624\n",
      "52  2017                     29668\n",
      "53  2018                     31438\n",
      "54  2019                     35220\n",
      "55  2020                     48651\n",
      "56  2021                     48720\n",
      "57  2022                     52670\n",
      "58  2023                     61080\n"
     ]
    }
   ],
   "source": [
    "#trimming gold price dataset to match silver price\n",
    "df1 = df[df['Year']>= 1981]\n",
    "print(df1)\n",
    "\n",
    "d1 = df1.to_numpy(dtype = float)"
   ]
  },
  {
   "cell_type": "code",
   "execution_count": 6,
   "metadata": {},
   "outputs": [
    {
     "name": "stdout",
     "output_type": "stream",
     "text": [
      "    Year  Silver Rates in /Kg.\n",
      "0   1981                  2715\n",
      "1   1982                  2720\n",
      "2   1983                  3105\n",
      "3   1984                  3570\n",
      "4   1985                  3955\n",
      "5   1986                  4015\n",
      "6   1987                  4794\n",
      "7   1988                  6066\n",
      "8   1989                  6755\n",
      "9   1990                  6463\n",
      "10  1991                  6646\n",
      "11  1992                  8040\n",
      "12  1993                  5489\n",
      "13  1994                  7124\n",
      "14  1995                  6335\n",
      "15  1996                  7346\n",
      "16  1997                  7345\n",
      "17  1998                  8560\n",
      "18  1999                  7615\n",
      "19  2000                  7900\n",
      "20  2001                  7215\n",
      "21  2002                  7875\n",
      "22  2003                  7695\n",
      "23  2004                 11770\n",
      "24  2005                 10675\n",
      "25  2006                 17405\n",
      "26  2007                 19520\n",
      "27  2008                 23625\n",
      "28  2009                 22165\n",
      "29  2010                 27255\n",
      "30  2011                 56900\n",
      "31  2012                 56290\n",
      "32  2013                 54030\n",
      "33  2014                 43070\n",
      "34  2015                 37825\n",
      "35  2016                 36990\n",
      "36  2017                 37825\n",
      "37  2018                 41400\n",
      "38  2019                 40600\n",
      "39  2020                 63435\n",
      "40  2021                 62572\n",
      "41  2022                 55100\n"
     ]
    }
   ],
   "source": [
    "df2 = pd.read_csv(\"/Users/Aditi/Documents/Manipal/3rd year/ML/Data/silver_prices.csv\")\n",
    "print(df2)\n",
    "\n",
    "d2 = df2.to_numpy(dtype = float)"
   ]
  },
  {
   "cell_type": "code",
   "execution_count": 7,
   "metadata": {},
   "outputs": [
    {
     "name": "stdout",
     "output_type": "stream",
     "text": [
      "42 42 42\n"
     ]
    }
   ],
   "source": [
    "#prices as independent variables\n",
    "x1= d1[:,1] #price of gold\n",
    "x2= d2[:,1] #price of silver\n",
    "\n",
    "#year as dependent variable\n",
    "y = d1[:,0] \n",
    "\n",
    "print(np.size(x1),np.size(x2),np.size(y))"
   ]
  },
  {
   "cell_type": "code",
   "execution_count": 17,
   "metadata": {},
   "outputs": [],
   "source": [
    "def estimate_coef(x1,x2, y):\n",
    "    # number of observations/points\n",
    "    n = np.size(x1)\n",
    " \n",
    "    # mean of vectors\n",
    "    m_x1 = np.mean(x1)\n",
    "    m_x2 = np.mean(x2)\n",
    "    m_y = np.mean(y)\n",
    "    \n",
    "    #Summation values\n",
    "    sum_x1x1 = np.sum(x1*x1)\n",
    "    sum_x2x2 = np.sum(x2*x2)\n",
    "    sum_x1y = np.sum(x1*y)\n",
    "    sum_x2y = np.sum(x2*y)\n",
    "    sum_x1x2 =  np.sum(x1*x2)\n",
    " \n",
    "    # calculating regression coefficients\n",
    "    #slope\n",
    "    b1 = sum_x2x2*sum_x1y - sum_x1x2*sum_x2y / sum_x1x1*sum_x2x2 - sum_x1x2\n",
    "    b2 = sum_x1x1*sum_x2y - sum_x1x2*sum_x1y / sum_x1x1*sum_x2x2 - sum_x1x2\n",
    "    #y intercept\n",
    "    b0 = m_y - b1*m_x1 - b2*m_x2 \n",
    " \n",
    "    return (b0, b1,b2)"
   ]
  },
  {
   "cell_type": "code",
   "execution_count": 18,
   "metadata": {},
   "outputs": [
    {
     "name": "stdout",
     "output_type": "stream",
     "text": [
      "Estimated coefficients:\n",
      "b_0 = 7.794699939903275e+23, b_1 = -2.8907260307974463e+19, b_2 = -1.6974108298595305e+19\n"
     ]
    },
    {
     "data": {
      "image/png": "[encoded data removed]",
      "text/plain": [
       "<Figure size 432x288 with 1 Axes>"
      ]
     },
     "metadata": {
      "needs_background": "light"
     },
     "output_type": "display_data"
    },
    {
     "data": {
      "image/png": "[encoded data removed]",
      "text/plain": [
       "<Figure size 432x288 with 1 Axes>"
      ]
     },
     "metadata": {
      "needs_background": "light"
     },
     "output_type": "display_data"
    }
   ],
   "source": [
    "b = estimate_coef(x1,x2,y)\n",
    "print(\"Estimated coefficients:\\nb_0 = {}, b_1 = {}, b_2 = {}\".format(b[0], b[1], b[2]))\n",
    " \n",
    "# plotting regression line\n",
    "plt.scatter(x1,y, color = \"m\", s = 3)\n",
    "plt.scatter(x2,y, color = \"cyan\", s = 3)\n",
    "plt.show()\n",
    "\n",
    "y_pred = b[0] - b[1]*x1 -b[2]*x2\n",
    "\n",
    "plt.plot(x1, y_pred, color = \"g\")\n",
    "plt.xlabel('price')\n",
    "plt.ylabel('year predicted')\n",
    "plt.show()"
   ]
  },
  {
   "cell_type": "code",
   "execution_count": 19,
   "metadata": {},
   "outputs": [
    {
     "data": {
      "image/png": "[encoded data removed]",
      "text/plain": [
       "<Figure size 432x288 with 1 Axes>"
      ]
     },
     "metadata": {
      "needs_background": "light"
     },
     "output_type": "display_data"
    },
    {
     "name": "stdout",
     "output_type": "stream",
     "text": [
      "rmse:  1.745740757303439e+24\n"
     ]
    }
   ],
   "source": [
    "err = y_pred - y\n",
    "plt.plot(x1, err, color = 'r')\n",
    "plt.title('Error vs gold price')\n",
    "plt.show()\n",
    "\n",
    "mse = np.square(np.subtract(y,y_pred)).mean()\n",
    "rmse = math.sqrt(mse)\n",
    "print(\"rmse: \",rmse)"
   ]
  },
  {
   "cell_type": "code",
   "execution_count": null,
   "metadata": {},
   "outputs": [],
   "source": [
    "from sklearn import datasets, linear_model, metrics\n",
    "from sklearn.preprocessing import linear_model"
   ]
  },
  {
   "cell_type": "code",
   "execution_count": 26,
   "metadata": {},
   "outputs": [
    {
     "name": "stdout",
     "output_type": "stream",
     "text": [
      "[17     1800\n",
      "18     1645\n",
      "19     1800\n",
      "20     1970\n",
      "21     2130\n",
      "22     2140\n",
      "23     2570\n",
      "24     3130\n",
      "25     3140\n",
      "26     3200\n",
      "27     3466\n",
      "28     4334\n",
      "29     4140\n",
      "30     4598\n",
      "31     4680\n",
      "32     5160\n",
      "33     4725\n",
      "34     4045\n",
      "35     4234\n",
      "36     4400\n",
      "37     4300\n",
      "38     4990\n",
      "39     5600\n",
      "40     5850\n",
      "41     7000\n",
      "42    10800\n",
      "43    12500\n",
      "44    14500\n",
      "45    18500\n",
      "46    26400\n",
      "47    31050\n",
      "48    29600\n",
      "49    28007\n",
      "50    26344\n",
      "51    28624\n",
      "52    29668\n",
      "53    31438\n",
      "54    35220\n",
      "55    48651\n",
      "56    48720\n",
      "57    52670\n",
      "58    61080\n",
      "Name: Price(24karatper10grams), dtype: int64, 0      2715\n",
      "1      2720\n",
      "2      3105\n",
      "3      3570\n",
      "4      3955\n",
      "5      4015\n",
      "6      4794\n",
      "7      6066\n",
      "8      6755\n",
      "9      6463\n",
      "10     6646\n",
      "11     8040\n",
      "12     5489\n",
      "13     7124\n",
      "14     6335\n",
      "15     7346\n",
      "16     7345\n",
      "17     8560\n",
      "18     7615\n",
      "19     7900\n",
      "20     7215\n",
      "21     7875\n",
      "22     7695\n",
      "23    11770\n",
      "24    10675\n",
      "25    17405\n",
      "26    19520\n",
      "27    23625\n",
      "28    22165\n",
      "29    27255\n",
      "30    56900\n",
      "31    56290\n",
      "32    54030\n",
      "33    43070\n",
      "34    37825\n",
      "35    36990\n",
      "36    37825\n",
      "37    41400\n",
      "38    40600\n",
      "39    63435\n",
      "40    62572\n",
      "41    55100\n",
      "Name: Silver Rates in /Kg., dtype: int64]\n"
     ]
    }
   ],
   "source": [
    "X = [df1['Price(24karatper10grams)'],df2['Silver Rates in /Kg.']]\n",
    "Y = y\n",
    "\n",
    "print(X)"
   ]
  },
  {
   "cell_type": "code",
   "execution_count": 12,
   "metadata": {},
   "outputs": [
    {
     "name": "stdout",
     "output_type": "stream",
     "text": [
      "[[ 1800.]\n",
      " [ 1645.]\n",
      " [ 1800.]\n",
      " [ 1970.]\n",
      " [ 2130.]\n",
      " [ 2140.]\n",
      " [ 2570.]\n",
      " [ 3130.]\n",
      " [ 3140.]\n",
      " [ 3200.]\n",
      " [ 3466.]\n",
      " [ 4334.]\n",
      " [ 4140.]\n",
      " [ 4598.]\n",
      " [ 4680.]\n",
      " [ 5160.]\n",
      " [ 4725.]\n",
      " [ 4045.]\n",
      " [ 4234.]\n",
      " [ 4400.]\n",
      " [ 4300.]\n",
      " [ 4990.]\n",
      " [ 5600.]\n",
      " [ 5850.]\n",
      " [ 7000.]\n",
      " [10800.]\n",
      " [12500.]\n",
      " [14500.]\n",
      " [18500.]\n",
      " [26400.]\n",
      " [31050.]\n",
      " [29600.]\n",
      " [28007.]\n",
      " [26344.]\n",
      " [28624.]\n",
      " [29668.]\n",
      " [31438.]\n",
      " [35220.]\n",
      " [48651.]\n",
      " [48720.]\n",
      " [52670.]\n",
      " [61080.]]\n",
      "[[ 2715.  2720.  3105.  3570.  3955.  4015.  4794.  6066.  6755.  6463.\n",
      "   6646.  8040.  5489.  7124.  6335.  7346.  7345.  8560.  7615.  7900.\n",
      "   7215.  7875.  7695. 11770. 10675. 17405. 19520. 23625. 22165. 27255.\n",
      "  56900. 56290. 54030. 43070. 37825. 36990. 37825. 41400. 40600. 63435.\n",
      "  62572. 55100.]]\n",
      "[[ 1800.  2715.]\n",
      " [ 1645.  2720.]\n",
      " [ 1800.  3105.]\n",
      " [ 1970.  3570.]\n",
      " [ 2130.  3955.]\n",
      " [ 2140.  4015.]\n",
      " [ 2570.  4794.]\n",
      " [ 3130.  6066.]\n",
      " [ 3140.  6755.]\n",
      " [ 3200.  6463.]\n",
      " [ 3466.  6646.]\n",
      " [ 4334.  8040.]\n",
      " [ 4140.  5489.]\n",
      " [ 4598.  7124.]\n",
      " [ 4680.  6335.]\n",
      " [ 5160.  7346.]\n",
      " [ 4725.  7345.]\n",
      " [ 4045.  8560.]\n",
      " [ 4234.  7615.]\n",
      " [ 4400.  7900.]\n",
      " [ 4300.  7215.]\n",
      " [ 4990.  7875.]\n",
      " [ 5600.  7695.]\n",
      " [ 5850. 11770.]\n",
      " [ 7000. 10675.]\n",
      " [10800. 17405.]\n",
      " [12500. 19520.]\n",
      " [14500. 23625.]\n",
      " [18500. 22165.]\n",
      " [26400. 27255.]\n",
      " [31050. 56900.]\n",
      " [29600. 56290.]\n",
      " [28007. 54030.]\n",
      " [26344. 43070.]\n",
      " [28624. 37825.]\n",
      " [29668. 36990.]\n",
      " [31438. 37825.]\n",
      " [35220. 41400.]\n",
      " [48651. 40600.]\n",
      " [48720. 63435.]\n",
      " [52670. 62572.]\n",
      " [61080. 55100.]]\n"
     ]
    }
   ],
   "source": [
    "#doing at home\n",
    "x1 = x1.reshape(-1, 1)\n",
    "x2 = x2.reshape(-1, 1)\n",
    "\n",
    "print(x1)\n",
    "print(x2.T)\n",
    "\n",
    "X = np.hstack((x1, x2))\n",
    "Y = y\n",
    "\n",
    "print(X)"
   ]
  },
  {
   "cell_type": "code",
   "execution_count": 13,
   "metadata": {},
   "outputs": [
    {
     "data": {
      "text/plain": [
       "LinearRegression(copy_X=True, fit_intercept=True, n_jobs=None, normalize=False)"
      ]
     },
     "execution_count": 13,
     "metadata": {},
     "output_type": "execute_result"
    }
   ],
   "source": [
    "reg=LinearRegression()     #initiating linearregression\n",
    "reg.fit(X,Y)"
   ]
  },
  {
   "cell_type": "code",
   "execution_count": null,
   "metadata": {},
   "outputs": [],
   "source": []
  }
 ],
 "metadata": {
  "kernelspec": {
   "display_name": "Python 3",
   "language": "python",
   "name": "python3"
  },
  "language_info": {
   "codemirror_mode": {
    "name": "ipython",
    "version": 3
   },
   "file_extension": ".py",
   "mimetype": "text/x-python",
   "name": "python",
   "nbconvert_exporter": "python",
   "pygments_lexer": "ipython3",
   "version": "3.7.4"
  },
  "nteract": {
   "version": "nteract-front-end@1.0.0"
  }
 },
 "nbformat": 4,
 "nbformat_minor": 5
}
