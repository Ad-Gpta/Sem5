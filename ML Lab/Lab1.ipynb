{
 "cells": [
  {
   "cell_type": "markdown",
   "metadata": {},
   "source": [
    "USING CSV MODULE/PACKAGE"
   ]
  },
  {
   "cell_type": "code",
   "execution_count": 16,
   "metadata": {},
   "outputs": [
    {
     "name": "stdout",
     "output_type": "stream",
     "text": [
      "['4', 'd', '4', 'k']\n",
      "['5', 'e', '17', 'q']\n"
     ]
    }
   ],
   "source": [
    "import csv\n",
    "with open(\"/home/AIML_Student/Documents/B34_aiml/Lab1/test1.csv\",\"rt\") as f: #csv.Dictreader -> print as dict\n",
    "    data = csv.reader(f)\n",
    "    for r in data:\n",
    "        print(r)"
   ]
  },
  {
   "cell_type": "code",
   "execution_count": 17,
   "metadata": {},
   "outputs": [],
   "source": [
    "with open(\"/home/AIML_Student/Documents/B34_aiml/Lab1/test1.csv\",\"w\") as f: #csv.Dictreader -> print as dict\n",
    "    w = csv.writer(f,delimiter = ',',quotechar = '\"',quoting = csv.QUOTE_MINIMAL) #overwrites files\n",
    "    w.writerow(['4','d','4','k'])\n",
    "    w.writerow(['5','e','17','q'])"
   ]
  },
  {
   "cell_type": "code",
   "execution_count": 14,
   "metadata": {},
   "outputs": [
    {
     "name": "stdout",
     "output_type": "stream",
     "text": [
      "['4', 'd', '4', 'k']\n",
      "['5', 'e', '17', 'q']\n"
     ]
    }
   ],
   "source": [
    "with open(\"/home/AIML_Student/Documents/B34_aiml/Lab1/test1.csv\",\"rt\") as f: #csv.Dictreader -> print as dict\n",
    "    data = csv.reader(f)\n",
    "    for r in data:\n",
    "        print(r)"
   ]
  },
  {
   "cell_type": "markdown",
   "metadata": {},
   "source": [
    "USING PANDAS MODULE/PACKAGE"
   ]
  },
  {
   "cell_type": "code",
   "execution_count": 15,
   "metadata": {},
   "outputs": [
    {
     "name": "stdout",
     "output_type": "stream",
     "text": [
      "   Sn Name Num letter\n",
      "0   1    a  10      x\n",
      "1   2    b  20      y\n",
      "2   3    c  11      z\n"
     ]
    }
   ],
   "source": [
    "from pandas import DataFrame\n",
    "c = [[1,'a','10','x'],[2,'b',20,'y'],[3,'c',11,'z']]\n",
    "df = DataFrame(c,columns=['Sn','Name','Num','letter'])\n",
    "export_csv = df.to_csv(r'/home/AIML_Student/Documents/B34_aiml/Lab1/test2_pandas.csv',index = True, header = True)\n",
    "#can put index = None if not required \n",
    "print(df)"
   ]
  },
  {
   "cell_type": "markdown",
   "metadata": {},
   "source": [
    "installing a package: !pip install numpy (OR $pip)\n",
    "checking: import numpy\n",
    "in UBUNTU terminal: type spyder\n",
    "then type:\n",
    "import numpy \n",
    "import seaborn"
   ]
  },
  {
   "cell_type": "markdown",
   "metadata": {},
   "source": [
    "LAB QUESTIONS"
   ]
  },
  {
   "cell_type": "code",
   "execution_count": 50,
   "metadata": {},
   "outputs": [
    {
     "name": "stdout",
     "output_type": "stream",
     "text": [
      "initial array:  [0 1 2 3 4 5 6 7 8]\n",
      "modified array:  [[0 1 2]\n",
      " [3 4 5]\n",
      " [6 7 8]]\n"
     ]
    }
   ],
   "source": [
    "import numpy as np\n",
    "#Q1\n",
    "a = np.array([0, 1, 2, 3, 4, 5, 6, 7, 8])\n",
    "print(\"initial array: \",a)\n",
    "b = a.reshape(3,3)\n",
    "print(\"modified array: \",b)"
   ]
  },
  {
   "cell_type": "code",
   "execution_count": 51,
   "metadata": {},
   "outputs": [
    {
     "name": "stdout",
     "output_type": "stream",
     "text": [
      "[ 0 -1  2 -1  4 -1  6 -1  8]\n",
      "[ 0 -1  2 -1  4 -1  6 -1  8]\n"
     ]
    }
   ],
   "source": [
    "#Q2\n",
    "n = a.size\n",
    "for i in range(n): #using for loop\n",
    "    if a[i]%2 !=0:\n",
    "        a[i] = -1\n",
    "print(a)\n",
    "#using numpy\n",
    "a = np.array([0, 1, 2, 3, 4, 5, 6, 7, 8])\n",
    "a[a%2!=0] = -1\n",
    "print(a)"
   ]
  },
  {
   "cell_type": "code",
   "execution_count": 48,
   "metadata": {},
   "outputs": [
    {
     "name": "stdout",
     "output_type": "stream",
     "text": [
      "x>y:  [1, 2, 4, 5, 6, 7, 8, 9] \n",
      " [99  1  2  4  5  6  7  8  9]\n",
      "x==y:  [0] \n",
      " [99  0]\n"
     ]
    }
   ],
   "source": [
    "#Q3\n",
    "x = np.array([21, 64, 86, 22, 74, 55, 81, 79, 90, 89]) \n",
    "y = np.array([21, 7, 3, 45, 10, 29, 55, 4, 37, 18])\n",
    "a = [] #storing in lists\n",
    "b = []\n",
    "c = np.array(99) #storing in array\n",
    "d = np.array(99)\n",
    "\n",
    "for i in range(x.size):\n",
    "    if x[i] == y[i]:\n",
    "        b.append(i)\n",
    "        d = np.append(d,[i]) #axis 1 is row\n",
    "    elif x[i] > y[i]:\n",
    "        a.append(i)\n",
    "        c =np.append(c,[i])\n",
    "print(\"x>y: \",a,\"\\n\",c)\n",
    "print(\"x==y: \",b,\"\\n\",d)"
   ]
  },
  {
   "cell_type": "code",
   "execution_count": 38,
   "metadata": {},
   "outputs": [
    {
     "name": "stdout",
     "output_type": "stream",
     "text": [
      "data: \n",
      " [[ 0  1  2  3  4  5  6  7  8  9 10 11 12 13 14 15 16 17 18 19]\n",
      " [20 21 22 23 24 25 26 27 28 29 30 31 32 33 34 35 36 37 38 39]\n",
      " [40 41 42 43 44 45 46 47 48 49 50 51 52 53 54 55 56 57 58 59]\n",
      " [60 61 62 63 64 65 66 67 68 69 70 71 72 73 74 75 76 77 78 79]\n",
      " [80 81 82 83 84 85 86 87 88 89 90 91 92 93 94 95 96 97 98 99]]\n",
      "data2: \n",
      " [[ 0  1  2  3]\n",
      " [20 21 22 23]\n",
      " [40 41 42 43]\n",
      " [60 61 62 63]\n",
      " [80 81 82 83]]\n"
     ]
    }
   ],
   "source": [
    "#Q4\n",
    "data = np.arange(100).reshape(5,-1)\n",
    "print(\"data: \\n\",data)\n",
    "data2 = data[:,[0,1,2,3]]\n",
    "print(\"data2: \\n\",data2)"
   ]
  },
  {
   "cell_type": "code",
   "execution_count": null,
   "metadata": {},
   "outputs": [],
   "source": []
  }
 ],
 "metadata": {
  "kernelspec": {
   "display_name": "Python 3",
   "language": "python",
   "name": "python3"
  },
  "language_info": {
   "codemirror_mode": {
    "name": "ipython",
    "version": 3
   },
   "file_extension": ".py",
   "mimetype": "text/x-python",
   "name": "python",
   "nbconvert_exporter": "python",
   "pygments_lexer": "ipython3",
   "version": "3.7.4"
  }
 },
 "nbformat": 4,
 "nbformat_minor": 5
}
