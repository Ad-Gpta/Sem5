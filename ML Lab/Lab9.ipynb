{
 "cells": [
  {
   "cell_type": "markdown",
   "metadata": {},
   "source": [
    "WEEK -09: K-Nearest Neighbour (K-NN)"
   ]
  },
  {
   "cell_type": "code",
   "execution_count": 4,
   "metadata": {},
   "outputs": [],
   "source": [
    "import pandas as pd\n",
    "import numpy as np\n",
    "from math import sqrt"
   ]
  },
  {
   "cell_type": "markdown",
   "metadata": {},
   "source": [
    "Q1)\n",
    "We have data from the questionnaires survey (to ask people opinion) and objective testing with two attributes (acid durability and strength) to classify whether a special paper tissue is good or not. \n",
    "Here is four training samples as follows. \n",
    "Apply the K-nearest neighbour’s (KNN) algorithm when K=2, 3 and 4 to classify an instance (3, 7) as good or bad."
   ]
  },
  {
   "cell_type": "code",
   "execution_count": 5,
   "metadata": {},
   "outputs": [],
   "source": [
    "df = pd.read_csv('/home/AIML_Student/Documents/B34_aiml/Lab9/data.csv')"
   ]
  },
  {
   "cell_type": "code",
   "execution_count": 6,
   "metadata": {},
   "outputs": [
    {
     "data": {
      "text/html": [
       "<div>\n",
       "<style scoped>\n",
       "    .dataframe tbody tr th:only-of-type {\n",
       "        vertical-align: middle;\n",
       "    }\n",
       "\n",
       "    .dataframe tbody tr th {\n",
       "        vertical-align: top;\n",
       "    }\n",
       "\n",
       "    .dataframe thead th {\n",
       "        text-align: right;\n",
       "    }\n",
       "</style>\n",
       "<table border=\"1\" class=\"dataframe\">\n",
       "  <thead>\n",
       "    <tr style=\"text-align: right;\">\n",
       "      <th></th>\n",
       "      <th>X1 = Acid Durability</th>\n",
       "      <th>X2 = Strength</th>\n",
       "      <th>Y= Classification</th>\n",
       "    </tr>\n",
       "  </thead>\n",
       "  <tbody>\n",
       "    <tr>\n",
       "      <th>0</th>\n",
       "      <td>7</td>\n",
       "      <td>7</td>\n",
       "      <td>Bad</td>\n",
       "    </tr>\n",
       "    <tr>\n",
       "      <th>1</th>\n",
       "      <td>7</td>\n",
       "      <td>4</td>\n",
       "      <td>Bad</td>\n",
       "    </tr>\n",
       "    <tr>\n",
       "      <th>2</th>\n",
       "      <td>3</td>\n",
       "      <td>4</td>\n",
       "      <td>Good</td>\n",
       "    </tr>\n",
       "    <tr>\n",
       "      <th>3</th>\n",
       "      <td>1</td>\n",
       "      <td>4</td>\n",
       "      <td>Good</td>\n",
       "    </tr>\n",
       "    <tr>\n",
       "      <th>4</th>\n",
       "      <td>4</td>\n",
       "      <td>5</td>\n",
       "      <td>Bad</td>\n",
       "    </tr>\n",
       "    <tr>\n",
       "      <th>5</th>\n",
       "      <td>3</td>\n",
       "      <td>5</td>\n",
       "      <td>Good</td>\n",
       "    </tr>\n",
       "    <tr>\n",
       "      <th>6</th>\n",
       "      <td>4</td>\n",
       "      <td>6</td>\n",
       "      <td>Bad</td>\n",
       "    </tr>\n",
       "    <tr>\n",
       "      <th>7</th>\n",
       "      <td>8</td>\n",
       "      <td>7</td>\n",
       "      <td>Bad</td>\n",
       "    </tr>\n",
       "    <tr>\n",
       "      <th>8</th>\n",
       "      <td>7</td>\n",
       "      <td>9</td>\n",
       "      <td>Good</td>\n",
       "    </tr>\n",
       "    <tr>\n",
       "      <th>9</th>\n",
       "      <td>8</td>\n",
       "      <td>8</td>\n",
       "      <td>Bad</td>\n",
       "    </tr>\n",
       "  </tbody>\n",
       "</table>\n",
       "</div>"
      ],
      "text/plain": [
       "   X1 = Acid Durability  X2 = Strength Y= Classification\n",
       "0                     7              7               Bad\n",
       "1                     7              4               Bad\n",
       "2                     3              4              Good\n",
       "3                     1              4              Good\n",
       "4                     4              5               Bad\n",
       "5                     3              5              Good\n",
       "6                     4              6               Bad\n",
       "7                     8              7               Bad\n",
       "8                     7              9              Good\n",
       "9                     8              8               Bad"
      ]
     },
     "execution_count": 6,
     "metadata": {},
     "output_type": "execute_result"
    }
   ],
   "source": [
    "df"
   ]
  },
  {
   "cell_type": "code",
   "execution_count": 7,
   "metadata": {
    "scrolled": true
   },
   "outputs": [
    {
     "data": {
      "text/plain": [
       "Index(['X1 = Acid Durability', 'X2 = Strength', 'Y= Classification'], dtype='object')"
      ]
     },
     "execution_count": 7,
     "metadata": {},
     "output_type": "execute_result"
    }
   ],
   "source": [
    "cols = df.columns\n",
    "cols"
   ]
  },
  {
   "cell_type": "code",
   "execution_count": 9,
   "metadata": {},
   "outputs": [
    {
     "data": {
      "text/plain": [
       "array([[7, 7, 'Bad'],\n",
       "       [7, 4, 'Bad'],\n",
       "       [3, 4, 'Good'],\n",
       "       [1, 4, 'Good'],\n",
       "       [4, 5, 'Bad'],\n",
       "       [3, 5, 'Good'],\n",
       "       [4, 6, 'Bad'],\n",
       "       [8, 7, 'Bad'],\n",
       "       [7, 9, 'Good'],\n",
       "       [8, 8, 'Bad']], dtype=object)"
      ]
     },
     "execution_count": 9,
     "metadata": {},
     "output_type": "execute_result"
    }
   ],
   "source": [
    "d = df.to_numpy()\n",
    "d"
   ]
  },
  {
   "cell_type": "code",
   "execution_count": 50,
   "metadata": {},
   "outputs": [
    {
     "name": "stdout",
     "output_type": "stream",
     "text": [
      "[[7 7]\n",
      " [7 4]\n",
      " [3 4]\n",
      " [1 4]\n",
      " [4 5]\n",
      " [3 5]\n",
      " [4 6]\n",
      " [8 7]\n",
      " [7 9]\n",
      " [8 8]]\n"
     ]
    }
   ],
   "source": [
    "x1 = d[:, 0].reshape(-1, 1)\n",
    "x2 = d[:, 1].reshape(-1, 1)\n",
    "y = d[:, -1].reshape(-1, 1)\n",
    "\n",
    "x = np.hstack((x1, x2))\n",
    "print(x)"
   ]
  },
  {
   "cell_type": "code",
   "execution_count": 51,
   "metadata": {},
   "outputs": [],
   "source": [
    "test = [3, 7]"
   ]
  },
  {
   "cell_type": "code",
   "execution_count": 52,
   "metadata": {},
   "outputs": [
    {
     "name": "stdout",
     "output_type": "stream",
     "text": [
      "[[4.0, array(['Bad'], dtype=object)], [5.0, array(['Bad'], dtype=object)], [3.0, array(['Good'], dtype=object)], [3.605551275463989, array(['Good'], dtype=object)], [2.23606797749979, array(['Bad'], dtype=object)], [2.0, array(['Good'], dtype=object)], [1.4142135623730951, array(['Bad'], dtype=object)], [5.0, array(['Bad'], dtype=object)], [4.47213595499958, array(['Good'], dtype=object)], [5.0990195135927845, array(['Bad'], dtype=object)]]\n"
     ]
    }
   ],
   "source": [
    "dist = []\n",
    "\n",
    "n = d.shape[0] #number of rows /tuples\n",
    "\n",
    "#calculating distances\n",
    "for i in range(n):\n",
    "    curr_dist = sqrt((test[0] - x1[i])**2 + (test[1] - x2[i])**2)\n",
    "    curr = [curr_dist, y[i]]\n",
    "    dist.append(curr)\n",
    "\n",
    "dist_original = dist.copy()\n",
    "print(dist)"
   ]
  },
  {
   "cell_type": "code",
   "execution_count": 53,
   "metadata": {},
   "outputs": [],
   "source": [
    "#sorting distances\n",
    "dist.sort()"
   ]
  },
  {
   "cell_type": "code",
   "execution_count": 54,
   "metadata": {},
   "outputs": [
    {
     "data": {
      "text/plain": [
       "[[1.4142135623730951, array(['Bad'], dtype=object)],\n",
       " [2.0, array(['Good'], dtype=object)],\n",
       " [2.23606797749979, array(['Bad'], dtype=object)],\n",
       " [3.0, array(['Good'], dtype=object)],\n",
       " [3.605551275463989, array(['Good'], dtype=object)],\n",
       " [4.0, array(['Bad'], dtype=object)],\n",
       " [4.47213595499958, array(['Good'], dtype=object)],\n",
       " [5.0, array(['Bad'], dtype=object)],\n",
       " [5.0, array(['Bad'], dtype=object)],\n",
       " [5.0990195135927845, array(['Bad'], dtype=object)]]"
      ]
     },
     "execution_count": 54,
     "metadata": {},
     "output_type": "execute_result"
    }
   ],
   "source": [
    "dist"
   ]
  },
  {
   "cell_type": "code",
   "execution_count": 55,
   "metadata": {},
   "outputs": [],
   "source": [
    "def find_class(l,k):\n",
    "    g, b =0,0\n",
    "    for i in range(k):\n",
    "        if(l[i][1] == 'Good'):\n",
    "            g+=1\n",
    "        else:\n",
    "            b+=1\n",
    "    if(g > b):\n",
    "        return 'Good'\n",
    "    elif g==b:\n",
    "        return 'Either'\n",
    "    else:\n",
    "        return 'Bad'"
   ]
  },
  {
   "cell_type": "code",
   "execution_count": 56,
   "metadata": {},
   "outputs": [
    {
     "name": "stdout",
     "output_type": "stream",
     "text": [
      "for k =  2  predicted class =  Either\n",
      "for k =  3  predicted class =  Bad\n",
      "for k =  4  predicted class =  Either\n"
     ]
    }
   ],
   "source": [
    "for i in [2, 3, 4]:\n",
    "    pred = find_class(dist, i)\n",
    "    print(\"for k = \",i,\" predicted class = \", pred)"
   ]
  },
  {
   "cell_type": "markdown",
   "metadata": {},
   "source": [
    "Q2) \n",
    "Implement the Question number 1 with using scikit learn library. \n",
    "Plot the given samples Bad in Red color and Good in green color. Also plot the decision boundary. \n",
    "Calculate the distance using Euclidean, Manhattan, and Minkowski and compare."
   ]
  },
  {
   "cell_type": "code",
   "execution_count": 57,
   "metadata": {},
   "outputs": [],
   "source": [
    "from sklearn.neighbors import KNeighborsClassifier as knn"
   ]
  },
  {
   "cell_type": "code",
   "execution_count": 59,
   "metadata": {},
   "outputs": [],
   "source": [
    "k = knn(n_neighbors = 3).fit(x, y.ravel())"
   ]
  },
  {
   "cell_type": "code",
   "execution_count": 67,
   "metadata": {},
   "outputs": [
    {
     "name": "stdout",
     "output_type": "stream",
     "text": [
      "Using sklearn:  ['Bad']\n"
     ]
    }
   ],
   "source": [
    "t = np.array(test).reshape(1, 2)\n",
    "y_pred = k.predict(t)\n",
    "print(\"Using sklearn: \",y_pred)"
   ]
  },
  {
   "cell_type": "code",
   "execution_count": 68,
   "metadata": {},
   "outputs": [],
   "source": [
    "import matplotlib.pyplot as plt"
   ]
  },
  {
   "cell_type": "code",
   "execution_count": 75,
   "metadata": {},
   "outputs": [
    {
     "name": "stdout",
     "output_type": "stream",
     "text": [
      "[3]\n",
      "[3 5]\n"
     ]
    }
   ],
   "source": [
    "print(x1[5])\n",
    "print(x[5])"
   ]
  },
  {
   "cell_type": "code",
   "execution_count": 88,
   "metadata": {},
   "outputs": [
    {
     "name": "stdout",
     "output_type": "stream",
     "text": [
      "[[7, 7], [7, 4], [4, 5], [4, 6], [8, 7], [8, 8]]\n",
      "[[7 7]\n",
      " [7 4]\n",
      " [4 5]\n",
      " [4 6]\n",
      " [8 7]\n",
      " [8 8]]\n",
      "[7 7]\n"
     ]
    }
   ],
   "source": [
    "good = []\n",
    "bad = []\n",
    "\n",
    "for i in range(n):\n",
    "    if(y[i]=='Bad'):\n",
    "        bad.append(list(x[i]))\n",
    "    else:\n",
    "        good.append(list(x[i]))\n",
    "print(bad)\n",
    "bad = np.array(bad)\n",
    "bad = bad.reshape(-1, 2)\n",
    "print(bad)\n",
    "print(bad[0])"
   ]
  },
  {
   "cell_type": "code",
   "execution_count": null,
   "metadata": {},
   "outputs": [],
   "source": []
  },
  {
   "cell_type": "code",
   "execution_count": null,
   "metadata": {},
   "outputs": [],
   "source": []
  }
 ],
 "metadata": {
  "kernelspec": {
   "display_name": "Python 3",
   "language": "python",
   "name": "python3"
  },
  "language_info": {
   "codemirror_mode": {
    "name": "ipython",
    "version": 3
   },
   "file_extension": ".py",
   "mimetype": "text/x-python",
   "name": "python",
   "nbconvert_exporter": "python",
   "pygments_lexer": "ipython3",
   "version": "3.7.4"
  },
  "nteract": {
   "version": "nteract-front-end@1.0.0"
  }
 },
 "nbformat": 4,
 "nbformat_minor": 5
}
