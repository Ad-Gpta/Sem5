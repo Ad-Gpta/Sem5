{
 "cells": [
  {
   "cell_type": "markdown",
   "metadata": {},
   "source": [
    "# To learn how to build a canny edge detector from scratch"
   ]
  },
  {
   "cell_type": "code",
   "execution_count": 1,
   "metadata": {},
   "outputs": [],
   "source": [
    "import cv2 as c\n",
    "import numpy as np\n",
    "import matplotlib.pyplot as plt"
   ]
  },
  {
   "cell_type": "markdown",
   "metadata": {},
   "source": [
    "### References:\n",
    "\n",
    "https://towardsdatascience.com/canny-edge-detection-step-by-step-in-python-computer-vision-b49c3a2d8123\n",
    "\n",
    "https://medium.com/@rohit-krishna/coding-canny-edge-detection-algorithm-from-scratch-in-python-232e1fdceac7"
   ]
  },
  {
   "cell_type": "markdown",
   "metadata": {},
   "source": [
    "### Steps of Canny Edge Detection:\n",
    "\n",
    "1) Gray scale conversion\n",
    "\n",
    "2) Noise reduction\n",
    "\n",
    "3) Gradient calculation\n",
    "\n",
    "4) Non-maximum suppression\n",
    "\n",
    "5) Double Thresholding and hysteresis"
   ]
  },
  {
   "cell_type": "code",
   "execution_count": 3,
   "metadata": {},
   "outputs": [],
   "source": [
    "img = c.imread('images/robins.jpg',1)\n",
    "grey = c.cvtColor(img, c.COLOR_BGR2GRAY)\n",
    "\n",
    "c.imshow('robins: ', img)\n",
    "c.imshow('grey',grey)\n",
    "\n",
    "c.waitKey(0)\n",
    "c.destroyAllWindows()"
   ]
  },
  {
   "cell_type": "code",
   "execution_count": 4,
   "metadata": {},
   "outputs": [],
   "source": [
    "blur = c.GaussianBlur(grey, (5,5), 0)\n",
    "\n",
    "c.imshow('blurred img',blur)\n",
    "c.waitKey(0)\n",
    "c.destroyAllWindows()"
   ]
  },
  {
   "cell_type": "markdown",
   "metadata": {},
   "source": [
    "First trying sobel edge detection:"
   ]
  },
  {
   "cell_type": "code",
   "execution_count": 5,
   "metadata": {},
   "outputs": [],
   "source": [
    "gX = c.Sobel(grey, ddepth=c.CV_32F, dx=1, dy=0, ksize=3)\n",
    "gY = c.Sobel(grey, ddepth=c.CV_32F, dx=0, dy=1, ksize=3)\n",
    "\n",
    "c.imshow('x ', gX)\n",
    "c.imshow('y ', gY)\n",
    "c.waitKey(0)\n",
    "c.destroyAllWindows()"
   ]
  },
  {
   "cell_type": "code",
   "execution_count": 7,
   "metadata": {},
   "outputs": [
    {
     "name": "stdout",
     "output_type": "stream",
     "text": [
      "gradient angle [[-2.3561945 -2.4171875 -2.4196014 ... -2.6300714 -2.904655  -2.3561945]\n",
      " [-2.3820508 -2.4357364 -2.3186183 ... -2.5856967 -2.8224876 -2.1458685]\n",
      " [-2.4034035 -2.5523162 -2.2937758 ... -2.6351461 -2.8253365 -2.5247915]\n",
      " ...\n",
      " [-2.3561945 -2.3561945 -2.3561945 ... -1.8780551 -2.5023835 -2.3632865]\n",
      " [-2.3561945 -2.3561945 -2.3561945 ... -1.3719388 -2.300696  -2.4242709]\n",
      " [-2.3561945 -2.3561945 -2.3561945 ... -0.7140907 -2.223643  -2.3561945]]\n"
     ]
    }
   ],
   "source": [
    "#using sobel operators\n",
    "\n",
    "#mag = np.sqrt((gX**2) + (gY**2))\n",
    "#mag = mag/mag.max() *255\n",
    "\n",
    "gradx = gX - grey\n",
    "grady = gY - grey\n",
    "\n",
    "mag = np.sqrt(np.abs((gradx) + (grady)))\n",
    "\n",
    "c.imshow('x2 ', gradx)\n",
    "c.imshow('y2 ', grady)\n",
    "c.imshow('mag', mag)\n",
    "c.waitKey(0)\n",
    "c.destroyAllWindows()\n",
    "\n",
    "theta = np.arctan2(grady, gradx)\n",
    "print(\"gradient angle\",theta)"
   ]
  },
  {
   "cell_type": "code",
   "execution_count": null,
   "metadata": {},
   "outputs": [],
   "source": []
  }
 ],
 "metadata": {
  "kernelspec": {
   "display_name": "Python 3",
   "language": "python",
   "name": "python3"
  },
  "language_info": {
   "codemirror_mode": {
    "name": "ipython",
    "version": 3
   },
   "file_extension": ".py",
   "mimetype": "text/x-python",
   "name": "python",
   "nbconvert_exporter": "python",
   "pygments_lexer": "ipython3",
   "version": "3.7.4"
  }
 },
 "nbformat": 4,
 "nbformat_minor": 2
}
